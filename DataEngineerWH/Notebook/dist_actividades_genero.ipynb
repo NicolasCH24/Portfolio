{
 "cells": [
  {
   "cell_type": "markdown",
   "metadata": {},
   "source": [
    "## **EJEMPLO PRACTICO DE UNA ACTIVIDAD COMUN EN DATA ENGINEER**\n",
    "\n",
    "- **OBJETO DE ESTUDIO: EMPLEO EN ARGENTINA RELACIONADO A LA DISTRIBUCION DE GENERO POR PROVINCIA, DEPARTAMENTO Y ACTIVIDAD**\n",
    "\n",
    "**Se pretenden aplicar conceptos relacionados con Datawarehouse para comprender y familizarizar dichas taréas.**\n",
    "\n",
    "  - **Si bien por la naturaleza de la información es más viable optar por un modelo relacional no referido a un Datawarehouse para aprovechar la estructura, se hace con fines prácticos.**"
   ]
  },
  {
   "cell_type": "code",
   "execution_count": 1,
   "metadata": {},
   "outputs": [],
   "source": [
    "# PYSPARK\n",
    "from pyspark.sql.types import StructField, StructType, IntegerType, StringType, DateType, DecimalType\n",
    "from pyspark.sql.functions import col, when, regexp_extract, concat, lit, mean, round, asc\n",
    "from pyspark.sql.functions import year, month, when\n",
    "from pyspark.sql.functions import col, when"
   ]
  },
  {
   "cell_type": "code",
   "execution_count": 122,
   "metadata": {},
   "outputs": [],
   "source": [
    "# PANDAS\n",
    "import pandas as pd"
   ]
  },
  {
   "cell_type": "code",
   "execution_count": 2,
   "metadata": {},
   "outputs": [],
   "source": [
    "# SPARK SESSION\n",
    "from pyspark.sql import SparkSession \n",
    "spark = SparkSession.builder.appName(\"Employment Analysis\").getOrCreate()"
   ]
  },
  {
   "cell_type": "code",
   "execution_count": 3,
   "metadata": {},
   "outputs": [
    {
     "data": {
      "text/html": [
       "\n",
       "            <div>\n",
       "                <p><b>SparkSession - in-memory</b></p>\n",
       "                \n",
       "        <div>\n",
       "            <p><b>SparkContext</b></p>\n",
       "\n",
       "            <p><a href=\"http://DESKTOP-L5TQMM4.home:4040\">Spark UI</a></p>\n",
       "\n",
       "            <dl>\n",
       "              <dt>Version</dt>\n",
       "                <dd><code>v3.5.1</code></dd>\n",
       "              <dt>Master</dt>\n",
       "                <dd><code>local[*]</code></dd>\n",
       "              <dt>AppName</dt>\n",
       "                <dd><code>Employment Analysis</code></dd>\n",
       "            </dl>\n",
       "        </div>\n",
       "        \n",
       "            </div>\n",
       "        "
      ],
      "text/plain": [
       "<pyspark.sql.session.SparkSession at 0x1bc1ac0e3e0>"
      ]
     },
     "execution_count": 3,
     "metadata": {},
     "output_type": "execute_result"
    }
   ],
   "source": [
    "spark"
   ]
  },
  {
   "cell_type": "markdown",
   "metadata": {},
   "source": [
    "## **DATA DISTRIBUCION**"
   ]
  },
  {
   "cell_type": "markdown",
   "metadata": {},
   "source": [
    "- provincia_id: Número entero (integer)Código de la provincia \n",
    "\n",
    "- proporcion_mujeres: Número decimal (number)Proporción de mujeres en el establecimiento productivo \n",
    "\n",
    "- lat Número decimal: (number)Latitud redondeada del establecimiento \n",
    "\n",
    "- sucursal: Número entero (integer)Indicador único por sucursal de cada cuit. El par cuit-sucursal conforma un       \n",
    "establecimiento. \n",
    "\n",
    "- empleo: Texto (string)Cantidad agrupada de empleo del establecimiento  \n",
    "\n",
    "- in_departamentos: Número entero (integer)Código del departamento \n",
    "  \n",
    "- anio: Número entero (integer)Año al que refiere la información del establecimiento en cuestión.\n",
    " \n",
    "- lon: Número decimal (number)Longitud redondeada del establecimiento \n",
    "\n",
    "- quintil: Número entero (integer)Quintil de exportaciones de bienes en el que se ubica la empresa según el nivel de exportaciones del año en cuestión. \n",
    "  \n",
    "- cuit: Texto (string)Anonimización del CUIT de la empresa a la que pertenece el establecimiento. \n",
    "  \n",
    "- clae6: Número entero (integer)Actividad de la empresa a nivel de seis dígitos (CLAE6) "
   ]
  },
  {
   "cell_type": "code",
   "execution_count": 3,
   "metadata": {},
   "outputs": [],
   "source": [
    "data_distribucion = spark.read.format('CSV').option(\"headers\",\"true\").load(\"distribucion_establecimientos_productivos_sexo (1).csv\")"
   ]
  },
  {
   "cell_type": "code",
   "execution_count": 6,
   "metadata": {},
   "outputs": [],
   "source": [
    "data_distribucion.show(5)"
   ]
  },
  {
   "cell_type": "code",
   "execution_count": 4,
   "metadata": {},
   "outputs": [],
   "source": [
    "data_distribucion_schema = StructType([\n",
    "    StructField(\"cuit\", StringType(), True),\n",
    "    StructField(\"sucursal\", IntegerType(), True),\n",
    "    StructField(\"anio\", DateType(), True),\n",
    "    StructField(\"lat\", DecimalType(), True),\n",
    "    StructField(\"lon\", DecimalType(), True),\n",
    "    StructField(\"clae6\", IntegerType(), True),\n",
    "    StructField(\"in_departamento\", IntegerType(), True),\n",
    "    StructField(\"provincia_id\", IntegerType(), True),\n",
    "    StructField(\"quintil\", IntegerType(), True),\n",
    "    StructField(\"empleo\", StringType(), True),\n",
    "    StructField(\"proporcion_mujeres\", DecimalType(), True)\n",
    "])"
   ]
  },
  {
   "cell_type": "code",
   "execution_count": 5,
   "metadata": {},
   "outputs": [
    {
     "name": "stdout",
     "output_type": "stream",
     "text": [
      "+--------------+--------+----------+---+---+------+---------------+------------+-------+------+------------------+\n",
      "|          cuit|sucursal|      anio|lat|lon| clae6|in_departamento|provincia_id|quintil|empleo|proporcion_mujeres|\n",
      "+--------------+--------+----------+---+---+------+---------------+------------+-------+------+------------------+\n",
      "|84X20AZ402006P|       1|2021-01-01|-32|-60|475230|          30077|          30|      0|a. 1-9|                 0|\n",
      "|84X20AZ402006P|       1|2022-01-01|-32|-60|475230|          30077|          30|      0|a. 1-9|                 0|\n",
      "|41X8684801PW69|       1|2021-01-01|-32|-69| 13019|          70070|          70|      0|a. 1-9|                 0|\n",
      "|06X74P20120870|       1|2021-01-01|-35|-58|141201|           2105|           2|      0|a. 1-9|                 0|\n",
      "|06X74P20120870|       1|2022-01-01|-35|-58|141201|           2105|           2|      0|a. 1-9|                 0|\n",
      "+--------------+--------+----------+---+---+------+---------------+------------+-------+------+------------------+\n",
      "only showing top 5 rows\n",
      "\n"
     ]
    }
   ],
   "source": [
    "data_distribucion_df = spark.read.schema(data_distribucion_schema).format(\"csv\").option(\"header\",\"true\").load(\"C:/Dropbox/ApacheSpark/Datasets_empleo/distribucion_establecimientos_productivos_sexo (1).csv\")\n",
    "data_distribucion_df.show(5)  "
   ]
  },
  {
   "cell_type": "markdown",
   "metadata": {},
   "source": [
    "## **DATOS POR DEPARTAMENTO Y ACTIVIDAD**"
   ]
  },
  {
   "cell_type": "markdown",
   "metadata": {},
   "source": [
    "- in_departamentos: Número entero (integer)Código de departamento \n",
    "\n",
    "- departamento: Texto (string)Nombre de departamento \n",
    "\n",
    "- provincia_id: Número entero (integer)Código de provincia \n",
    "\n",
    "- provincia: Texto (string)Nombre de provincia \n",
    "\n",
    "- clae6: Número entero (integer)Código de actividad a nivel de seis dígitos (CLAE6)\n",
    "\n",
    "- clae2: Número entero (integer)Código de actividad a nivel de dos dígitos (CLAE2)\n",
    "\n",
    "- letra: Texto (string)Código de actividad a nivel de letra (CLAE Letra)\n",
    "\n",
    "- Empleo: Número entero (integer)Cantidad de trabajadores formales empleados en el departamento para la actividad correspondiente \n",
    "\n",
    "- Establecimientos: Número entero (integer)Cantidad de establecimientos con trabajadores formales en el departamento para la actividad correspondiente "
   ]
  },
  {
   "cell_type": "code",
   "execution_count": 123,
   "metadata": {},
   "outputs": [],
   "source": [
    "data_dep_act = spark.read.format('CSV').option(\"headers\",\"true\").load(\"Datos_por_departamento_y_actividad.csv\")"
   ]
  },
  {
   "cell_type": "code",
   "execution_count": 6,
   "metadata": {},
   "outputs": [],
   "source": [
    "data_dep_act_schema = StructType([\n",
    "    StructField(\"anio\", DateType(), True),\n",
    "    StructField(\"in_departamento\", IntegerType(), True),\n",
    "    StructField(\"departamento\", StringType(), True),\n",
    "    StructField(\"provincia_id\", IntegerType(), True),\n",
    "    StructField(\"provincia\", StringType(), True),\n",
    "    StructField(\"clae6\", IntegerType(), True),\n",
    "    StructField(\"clae2\", IntegerType(), True),\n",
    "    StructField(\"letra\", StringType(), True),\n",
    "    StructField(\"Empleo\", IntegerType(), True),\n",
    "    StructField(\"Establecimientos\", IntegerType(), True),\n",
    "    StructField(\"empresas_exportadoras\", IntegerType(), True)\n",
    "])"
   ]
  },
  {
   "cell_type": "code",
   "execution_count": 7,
   "metadata": {},
   "outputs": [
    {
     "name": "stdout",
     "output_type": "stream",
     "text": [
      "+----------+---------------+------------+------------+---------+-----+-----+-----+------+----------------+---------------------+\n",
      "|      anio|in_departamento|departamento|provincia_id|provincia|clae6|clae2|letra|Empleo|Establecimientos|empresas_exportadoras|\n",
      "+----------+---------------+------------+------------+---------+-----+-----+-----+------+----------------+---------------------+\n",
      "|2021-01-01|           2007|    Comuna 1|           2|     CABA|11111|    1|    A|    33|               9|                    4|\n",
      "|2021-01-01|           2007|    Comuna 1|           2|     CABA|11112|    1|    A|   407|              73|                    2|\n",
      "|2021-01-01|           2007|    Comuna 1|           2|     CABA|11119|    1|    A|  1193|             343|                    8|\n",
      "|2021-01-01|           2007|    Comuna 1|           2|     CABA|11121|    1|    A|    85|              29|                    0|\n",
      "|2021-01-01|           2007|    Comuna 1|           2|     CABA|11129|    1|    A|    78|              24|                    0|\n",
      "+----------+---------------+------------+------------+---------+-----+-----+-----+------+----------------+---------------------+\n",
      "only showing top 5 rows\n",
      "\n"
     ]
    }
   ],
   "source": [
    "data_dep_act_df = spark.read.schema(data_dep_act_schema).format(\"csv\").option(\"header\",\"true\").load(\"Datos_por_departamento_y_actividad.csv\")\n",
    "data_dep_act_df.show(5)  "
   ]
  },
  {
   "cell_type": "markdown",
   "metadata": {},
   "source": [
    "## **DATA ACTIVIDADES**"
   ]
  },
  {
   "cell_type": "markdown",
   "metadata": {},
   "source": [
    "- clae6: Número entero (integer)Código de actividad a seis dígitos (CLAE6) \n",
    "\n",
    "- clae2: Número entero (integer)Código de actividad a dos dígitos (CLAE2)\n",
    "\n",
    "- letra: Texto (string)Código de actividad a nivel de letra (CLAE Letra) \n",
    "\n",
    "- clae6_desc: Texto (string)Descriptor del clae6 (UTF-8) \n",
    "\n",
    "- clae2_desc: Texto (string)Descriptor del clae2 (UTF-8) \n",
    "\n",
    "- letra_desc: Texto (string)Descriptor de la letra (UTF-8) "
   ]
  },
  {
   "cell_type": "code",
   "execution_count": 126,
   "metadata": {},
   "outputs": [],
   "source": [
    "data_actividades = spark.read.format('CSV').option(\"headers\",\"true\").load(\"actividades_establecimientos.csv\")"
   ]
  },
  {
   "cell_type": "code",
   "execution_count": 8,
   "metadata": {},
   "outputs": [],
   "source": [
    "data_actividades_schema = StructType([\n",
    "    StructField(\"clae6\", IntegerType(), True),\n",
    "    StructField(\"clae2\", IntegerType(), True),\n",
    "    StructField('letra', StringType(), True),\n",
    "    StructField(\"clae6_desc\", StringType(), True),\n",
    "    StructField(\"clae2_desc\", StringType(), True),\n",
    "    StructField(\"letra_desc\", StringType(), True),\n",
    "])"
   ]
  },
  {
   "cell_type": "code",
   "execution_count": 9,
   "metadata": {},
   "outputs": [
    {
     "name": "stdout",
     "output_type": "stream",
     "text": [
      "+-----+-----+-----+--------------------+--------------------+--------------------+\n",
      "|clae6|clae2|letra|          clae6_desc|          clae2_desc|          letra_desc|\n",
      "+-----+-----+-----+--------------------+--------------------+--------------------+\n",
      "|14211|    1|    A|Cría de ganado eq...|Agricultura, gana...|AGRICULTURA, GANA...|\n",
      "|11331|    1|    A|Cultivo de hortal...|Agricultura, gana...|AGRICULTURA, GANA...|\n",
      "|14410|    1|    A|Cría de ganado ov...|Agricultura, gana...|AGRICULTURA, GANA...|\n",
      "|11211|    1|    A|     Cultivo de soja|Agricultura, gana...|AGRICULTURA, GANA...|\n",
      "|17010|    1|    A|Caza y repoblació...|Agricultura, gana...|AGRICULTURA, GANA...|\n",
      "+-----+-----+-----+--------------------+--------------------+--------------------+\n",
      "only showing top 5 rows\n",
      "\n"
     ]
    }
   ],
   "source": [
    "data_actividades_df = spark.read.schema(data_actividades_schema).format(\"csv\").option(\"header\",\"true\").load(\"actividades_establecimientos.csv\")\n",
    "data_actividades_df.show(5)"
   ]
  },
  {
   "cell_type": "markdown",
   "metadata": {},
   "source": [
    "## **DATA DISTRIBUCION GENERO**"
   ]
  },
  {
   "cell_type": "markdown",
   "metadata": {},
   "source": [
    "- in_departamentos: Número entero (integer)ID del departamento según nomenclatura de INDEC \n",
    "  \n",
    "- departamento: Texto (string)Nombre de departamento \n",
    "  \n",
    "- provincia_id: Número entero (integer)ID de la provincia según nomenclatura de INDEC \n",
    "  \n",
    "- provincia: Texto (string)Nombre de la provincia \n",
    "  \n",
    "- clae6: Número entero (integer)Código de actividad a seis dígitos del CLAE \n",
    "  \n",
    "- letra: Texto (string)Código de actividad a nivel de letra del CLAE \n",
    "  \n",
    "- genero: Texto (string)Indica el sexo biológico de los trabajadores de la fila correspondiente \n",
    "  \n",
    "- Empleo: Número decimal (number)Indica la cantidad de puestos de trabajo para el nivel de desagregación deseado \n",
    "  \n",
    "- Establecimiento: Número decimal (number)Cantidad de establecimientos para los cruces solicitados "
   ]
  },
  {
   "cell_type": "code",
   "execution_count": 129,
   "metadata": {},
   "outputs": [],
   "source": [
    "data_genero = spark.read.format('CSV').option(\"headers\",\"true\").load(\"Datos_por_departamento_actividad_y_sexo.csv\")"
   ]
  },
  {
   "cell_type": "code",
   "execution_count": 10,
   "metadata": {},
   "outputs": [],
   "source": [
    "data_genero_schema = StructType([\n",
    "    StructField(\"anio\", DateType(), True),\n",
    "    StructField(\"in_departamento\", IntegerType(), True),\n",
    "    StructField('departamento', StringType(), True),\n",
    "    StructField(\"provincia_id\", IntegerType(), True),\n",
    "    StructField(\"provincia\", StringType(), True),\n",
    "    StructField(\"clae6\", IntegerType(), True),\n",
    "    StructField(\"clae2\", IntegerType(), True),\n",
    "    StructField(\"letra\", StringType(), True),\n",
    "    StructField('genero', StringType(), True),\n",
    "    StructField('Empleo', IntegerType(), True),\n",
    "    StructField('Establecimientos', IntegerType(), True),\n",
    "    StructField('empresas_exportadoras', IntegerType(), True),\n",
    "])"
   ]
  },
  {
   "cell_type": "code",
   "execution_count": 11,
   "metadata": {},
   "outputs": [
    {
     "name": "stdout",
     "output_type": "stream",
     "text": [
      "+----------+---------------+------------+------------+---------+-----+-----+-----+-------+------+----------------+---------------------+\n",
      "|      anio|in_departamento|departamento|provincia_id|provincia|clae6|clae2|letra| genero|Empleo|Establecimientos|empresas_exportadoras|\n",
      "+----------+---------------+------------+------------+---------+-----+-----+-----+-------+------+----------------+---------------------+\n",
      "|2021-01-01|           2007|    Comuna 1|           2|     CABA|11111|    1|    A|Varones|    29|               5|                    4|\n",
      "|2021-01-01|           2007|    Comuna 1|           2|     CABA|11111|    1|    A|Mujeres|     4|               4|                    4|\n",
      "|2021-01-01|           2007|    Comuna 1|           2|     CABA|11112|    1|    A|Varones|   295|              45|                    2|\n",
      "|2021-01-01|           2007|    Comuna 1|           2|     CABA|11112|    1|    A|Mujeres|   112|              28|                    2|\n",
      "|2021-01-01|           2007|    Comuna 1|           2|     CABA|11119|    1|    A|Varones|   911|             224|                    8|\n",
      "+----------+---------------+------------+------------+---------+-----+-----+-----+-------+------+----------------+---------------------+\n",
      "only showing top 5 rows\n",
      "\n"
     ]
    }
   ],
   "source": [
    "data_genero_df = spark.read.schema(data_genero_schema).format(\"csv\").option(\"header\",\"true\").load(\"Datos_por_departamento_actividad_y_sexo.csv\")\n",
    "data_genero_df.show(5)"
   ]
  },
  {
   "cell_type": "markdown",
   "metadata": {},
   "source": [
    "## **DATA SALARIO MEDIO POR ACTIVIDAD CLAE6**\n",
    "\n",
    "- Fecha: Campo fecha\n",
    "\n",
    "- clae6: Id de actividad\n",
    "\n",
    "- w_mean: salario medio de ese año y actividad"
   ]
  },
  {
   "cell_type": "code",
   "execution_count": 132,
   "metadata": {},
   "outputs": [],
   "source": [
    "data_sal_med = spark.read.format('CSV').option(\"headers\",\"True\").load(\"salario_medio_clae6.csv\")"
   ]
  },
  {
   "cell_type": "code",
   "execution_count": 12,
   "metadata": {},
   "outputs": [],
   "source": [
    "data_sal_med_schema = StructType([\n",
    "    StructField(\"fecha\", DateType(), True),\n",
    "    StructField(\"clae6\", IntegerType(), True),\n",
    "    StructField('w_mean', IntegerType(), True),\n",
    "])"
   ]
  },
  {
   "cell_type": "code",
   "execution_count": 13,
   "metadata": {},
   "outputs": [],
   "source": [
    "data_sal_med_df = spark.read.schema(data_sal_med_schema).format(\"csv\").option(\"header\",\"true\").load(\"salario_medio_clae6.csv\")"
   ]
  },
  {
   "cell_type": "code",
   "execution_count": 14,
   "metadata": {},
   "outputs": [
    {
     "name": "stdout",
     "output_type": "stream",
     "text": [
      "+----------+-----+------+\n",
      "|     fecha|clae6|w_mean|\n",
      "+----------+-----+------+\n",
      "|2007-01-01|11111|  1214|\n",
      "|2007-01-01|11112|  1430|\n",
      "|2007-01-01|11119|  1196|\n",
      "|2007-01-01|11121|  1428|\n",
      "|2007-01-01|11129|  1077|\n",
      "+----------+-----+------+\n",
      "only showing top 5 rows\n",
      "\n"
     ]
    }
   ],
   "source": [
    "data_sal_med_df.show(5)"
   ]
  },
  {
   "cell_type": "markdown",
   "metadata": {},
   "source": [
    "## **LIMPIEZA Y TRANSFORMACION DE DATOS**"
   ]
  },
  {
   "cell_type": "markdown",
   "metadata": {},
   "source": [
    "**DATA DISTRIBUCION**"
   ]
  },
  {
   "cell_type": "code",
   "execution_count": 15,
   "metadata": {},
   "outputs": [],
   "source": [
    "# Agregamos la columnas de año y mes.\n",
    "data_distribucion_df = data_distribucion_df.withColumn('Año', year(col('anio')))\n",
    "data_distribucion_df = data_distribucion_df.withColumn('Mes', month(col('anio')))"
   ]
  },
  {
   "cell_type": "code",
   "execution_count": 16,
   "metadata": {},
   "outputs": [],
   "source": [
    "# Organizamos la jerarquia de empleo en tres columnas\n",
    "data_distribucion_df = data_distribucion_df.withColumn(\n",
    "    'Min_empleados',\n",
    "    regexp_extract(col('empleo'),r'(\\d+)', 1)\n",
    ")\n",
    "\n",
    "data_distribucion_df = data_distribucion_df.withColumn(\n",
    "    'Max_empleados',\n",
    "    regexp_extract(col('empleo'), r'(\\d+)-(\\d+)', 2)\n",
    ")"
   ]
  },
  {
   "cell_type": "code",
   "execution_count": 17,
   "metadata": {},
   "outputs": [],
   "source": [
    "data_distribucion_df = data_distribucion_df.withColumn(\n",
    "    'Mujeres',\n",
    "    when((col('proporcion_mujeres') == 0), False)\n",
    "    .otherwise(True)\n",
    ")"
   ]
  },
  {
   "cell_type": "code",
   "execution_count": 18,
   "metadata": {},
   "outputs": [],
   "source": [
    "data_distribucion_df = data_distribucion_df.withColumn(\n",
    "    'Nivel_Empleo',\n",
    "    regexp_extract(col('empleo'),r'[a-zA-Z0-9]', 0)\n",
    ")"
   ]
  },
  {
   "cell_type": "code",
   "execution_count": 19,
   "metadata": {},
   "outputs": [
    {
     "name": "stdout",
     "output_type": "stream",
     "text": [
      "+--------------+--------+----------+---+---+------+---------------+------------+-------+------+------------------+----+---+-------------+-------------+-------+------------+\n",
      "|          cuit|sucursal|      anio|lat|lon| clae6|in_departamento|provincia_id|quintil|empleo|proporcion_mujeres| Año|Mes|Min_empleados|Max_empleados|Mujeres|Nivel_Empleo|\n",
      "+--------------+--------+----------+---+---+------+---------------+------------+-------+------+------------------+----+---+-------------+-------------+-------+------------+\n",
      "|84X20AZ402006P|       1|2021-01-01|-32|-60|475230|          30077|          30|      0|a. 1-9|                 0|2021|  1|            1|            9|  false|           a|\n",
      "|84X20AZ402006P|       1|2022-01-01|-32|-60|475230|          30077|          30|      0|a. 1-9|                 0|2022|  1|            1|            9|  false|           a|\n",
      "|41X8684801PW69|       1|2021-01-01|-32|-69| 13019|          70070|          70|      0|a. 1-9|                 0|2021|  1|            1|            9|  false|           a|\n",
      "|06X74P20120870|       1|2021-01-01|-35|-58|141201|           2105|           2|      0|a. 1-9|                 0|2021|  1|            1|            9|  false|           a|\n",
      "|06X74P20120870|       1|2022-01-01|-35|-58|141201|           2105|           2|      0|a. 1-9|                 0|2022|  1|            1|            9|  false|           a|\n",
      "| 65X5A7421PW69|       1|2021-01-01|-41|-71|702092|          62021|          62|      0|a. 1-9|                 0|2021|  1|            1|            9|  false|           a|\n",
      "|8ZXA578022006P|       1|2021-01-01|-36|-62| 14113|           6609|           6|      0|a. 1-9|                 0|2021|  1|            1|            9|  false|           a|\n",
      "|55X57A24220Z03|       1|2021-01-01|-27|-59| 14113|          18021|          18|      0|a. 1-9|                 0|2021|  1|            1|            9|  false|           a|\n",
      "|62XA5Z5532016P|       1|2021-01-01|-37|-63| 14113|           6007|           6|      0|a. 1-9|                 0|2021|  1|            1|            9|  false|           a|\n",
      "|30X0P4A2Z20603|       1|2021-01-01|-35|-58|681098|           2028|           2|      0|a. 1-9|                 1|2021|  1|            1|            9|   true|           a|\n",
      "|30X0P4A2Z20603|       1|2022-01-01|-35|-58|681098|           2028|           2|      0|a. 1-9|                 1|2022|  1|            1|            9|   true|           a|\n",
      "|02X7181Z420J70|       1|2021-01-01|-34|-60| 14610|           6070|           6|      0|a. 1-9|                 0|2021|  1|            1|            9|  false|           a|\n",
      "|02X7181Z420J70|       1|2022-01-01|-34|-60| 14610|           6070|           6|      0|a. 1-9|                 0|2022|  1|            1|            9|  false|           a|\n",
      "|40X4240742016P|       1|2021-01-01|-34|-59|479900|           6749|           6|      0|a. 1-9|                 0|2021|  1|            1|            9|  false|           a|\n",
      "|40X4240742016P|       1|2022-01-01|-34|-59|479900|           6749|           6|      0|a. 1-9|                 0|2022|  1|            1|            9|  false|           a|\n",
      "|04X7287442086P|       1|2021-01-01|-49|-70| 14710|          78049|          78|      0|a. 1-9|                 0|2021|  1|            1|            9|  false|           a|\n",
      "|04X7287442086P|       1|2022-01-01|-49|-70| 14710|          78049|          78|      0|a. 1-9|                 0|2022|  1|            1|            9|  false|           a|\n",
      "|77X2478842010A|       1|2021-01-01|-43|-71| 14410|          26035|          26|      0|a. 1-9|                 0|2021|  1|            1|            9|  false|           a|\n",
      "|77X2478842010A|       1|2022-01-01|-43|-71| 14410|          26035|          26|      0|a. 1-9|                 0|2022|  1|            1|            9|  false|           a|\n",
      "|6ZXA555742006P|       1|2021-01-01|-46|-68| 14410|          26021|          26|      0|a. 1-9|                 0|2021|  1|            1|            9|  false|           a|\n",
      "+--------------+--------+----------+---+---+------+---------------+------------+-------+------+------------------+----+---+-------------+-------------+-------+------------+\n",
      "only showing top 20 rows\n",
      "\n"
     ]
    }
   ],
   "source": [
    "data_distribucion_df.show()"
   ]
  },
  {
   "cell_type": "markdown",
   "metadata": {},
   "source": [
    "**DATA POR DEPARTAMENTO Y ACTIVIDAD**"
   ]
  },
  {
   "cell_type": "code",
   "execution_count": 85,
   "metadata": {},
   "outputs": [
    {
     "data": {
      "text/plain": [
       "anio                     False\n",
       "in_departamentos         False\n",
       "departamento             False\n",
       "provincia_id             False\n",
       "provincia                False\n",
       "clae6                    False\n",
       "clae2                    False\n",
       "letra                    False\n",
       "Empleo                   False\n",
       "Establecimientos         False\n",
       "empresas_exportadoras    False\n",
       "dtype: bool"
      ]
     },
     "execution_count": 85,
     "metadata": {},
     "output_type": "execute_result"
    }
   ],
   "source": [
    "pd.read_csv(\"Datos_por_departamento_y_actividad.csv\", sep=',').isnull().any()"
   ]
  },
  {
   "cell_type": "code",
   "execution_count": 20,
   "metadata": {},
   "outputs": [
    {
     "name": "stdout",
     "output_type": "stream",
     "text": [
      "+----------+---------------+------------+------------+---------+-----+-----+-----+------+----------------+---------------------+----+---+\n",
      "|      anio|in_departamento|departamento|provincia_id|provincia|clae6|clae2|letra|Empleo|Establecimientos|empresas_exportadoras| Año|Mes|\n",
      "+----------+---------------+------------+------------+---------+-----+-----+-----+------+----------------+---------------------+----+---+\n",
      "|2021-01-01|           2007|    Comuna 1|           2|     CABA|11111|    1|    A|    33|               9|                    4|2021|  1|\n",
      "|2021-01-01|           2007|    Comuna 1|           2|     CABA|11112|    1|    A|   407|              73|                    2|2021|  1|\n",
      "|2021-01-01|           2007|    Comuna 1|           2|     CABA|11119|    1|    A|  1193|             343|                    8|2021|  1|\n",
      "|2021-01-01|           2007|    Comuna 1|           2|     CABA|11121|    1|    A|    85|              29|                    0|2021|  1|\n",
      "|2021-01-01|           2007|    Comuna 1|           2|     CABA|11129|    1|    A|    78|              24|                    0|2021|  1|\n",
      "|2021-01-01|           2007|    Comuna 1|           2|     CABA|11130|    1|    A|     2|               2|                    0|2021|  1|\n",
      "|2021-01-01|           2007|    Comuna 1|           2|     CABA|11211|    1|    A|   743|             244|                    9|2021|  1|\n",
      "|2021-01-01|           2007|    Comuna 1|           2|     CABA|11291|    1|    A|    18|               6|                    1|2021|  1|\n",
      "|2021-01-01|           2007|    Comuna 1|           2|     CABA|11299|    1|    A|   170|              25|                    4|2021|  1|\n",
      "|2021-01-01|           2007|    Comuna 1|           2|     CABA|11310|    1|    A|    29|               5|                    0|2021|  1|\n",
      "|2021-01-01|           2007|    Comuna 1|           2|     CABA|11329|    1|    A|    15|               8|                    2|2021|  1|\n",
      "|2021-01-01|           2007|    Comuna 1|           2|     CABA|11331|    1|    A|     8|               3|                    0|2021|  1|\n",
      "|2021-01-01|           2007|    Comuna 1|           2|     CABA|11341|    1|    A|     1|               1|                    0|2021|  1|\n",
      "|2021-01-01|           2007|    Comuna 1|           2|     CABA|11342|    1|    A|     6|               4|                    1|2021|  1|\n",
      "|2021-01-01|           2007|    Comuna 1|           2|     CABA|11501|    1|    A|    43|               8|                    0|2021|  1|\n",
      "|2021-01-01|           2007|    Comuna 1|           2|     CABA|11912|    1|    A|     1|               1|                    0|2021|  1|\n",
      "|2021-01-01|           2007|    Comuna 1|           2|     CABA|11990|    1|    A|     5|               3|                    0|2021|  1|\n",
      "|2021-01-01|           2007|    Comuna 1|           2|     CABA|12110|    1|    A|    50|              24|                    5|2021|  1|\n",
      "|2021-01-01|           2007|    Comuna 1|           2|     CABA|12121|    1|    A|    14|               3|                    1|2021|  1|\n",
      "|2021-01-01|           2007|    Comuna 1|           2|     CABA|12200|    1|    A|    29|               6|                    4|2021|  1|\n",
      "+----------+---------------+------------+------------+---------+-----+-----+-----+------+----------------+---------------------+----+---+\n",
      "only showing top 20 rows\n",
      "\n"
     ]
    }
   ],
   "source": [
    "data_dep_act_df = data_dep_act_df.withColumn(\n",
    "    'Año',\n",
    "    year(col('anio'))\n",
    ")\n",
    "\n",
    "data_dep_act_df = data_dep_act_df.withColumn(\n",
    "    'Mes',\n",
    "    month(col('anio'))\n",
    ")\n",
    "\n",
    "data_dep_act_df.show()"
   ]
  },
  {
   "cell_type": "markdown",
   "metadata": {},
   "source": [
    "**DATA ACTIVIDADES**"
   ]
  },
  {
   "cell_type": "code",
   "execution_count": 21,
   "metadata": {},
   "outputs": [
    {
     "name": "stdout",
     "output_type": "stream",
     "text": [
      "+-----+-----+-----+--------------------+--------------------+--------------------+\n",
      "|clae6|clae2|letra|          clae6_desc|          clae2_desc|          letra_desc|\n",
      "+-----+-----+-----+--------------------+--------------------+--------------------+\n",
      "|14211|    1|    A|Cría de ganado eq...|Agricultura, gana...|AGRICULTURA, GANA...|\n",
      "|11331|    1|    A|Cultivo de hortal...|Agricultura, gana...|AGRICULTURA, GANA...|\n",
      "|14410|    1|    A|Cría de ganado ov...|Agricultura, gana...|AGRICULTURA, GANA...|\n",
      "|11211|    1|    A|     Cultivo de soja|Agricultura, gana...|AGRICULTURA, GANA...|\n",
      "|17010|    1|    A|Caza y repoblació...|Agricultura, gana...|AGRICULTURA, GANA...|\n",
      "|11400|    1|    A|   Cultivo de tabaco|Agricultura, gana...|AGRICULTURA, GANA...|\n",
      "|12121|    1|    A|Cultivo de uva de...|Agricultura, gana...|AGRICULTURA, GANA...|\n",
      "|14720|    1|    A|Producción de pel...|Agricultura, gana...|AGRICULTURA, GANA...|\n",
      "|12110|    1|    A|Cultivo de vid pa...|Agricultura, gana...|AGRICULTURA, GANA...|\n",
      "|14520|    1|    A|Cría de ganado po...|Agricultura, gana...|AGRICULTURA, GANA...|\n",
      "|14221|    1|    A|Cría de ganado eq...|Agricultura, gana...|AGRICULTURA, GANA...|\n",
      "|12701|    1|    A|Cultivo de yerba ...|Agricultura, gana...|AGRICULTURA, GANA...|\n",
      "|12709|    1|    A|Cultivo de té y o...|Agricultura, gana...|AGRICULTURA, GANA...|\n",
      "|16291|    1|    A|Servicios para el...|Agricultura, gana...|AGRICULTURA, GANA...|\n",
      "|14121|    1|    A|Cría de ganado bo...|Agricultura, gana...|AGRICULTURA, GANA...|\n",
      "|13020|    1|    A|Producción de otr...|Agricultura, gana...|AGRICULTURA, GANA...|\n",
      "|16111|    1|    A|Servicios de labr...|Agricultura, gana...|AGRICULTURA, GANA...|\n",
      "|14990|    1|    A|Cría de animales ...|Agricultura, gana...|AGRICULTURA, GANA...|\n",
      "|12590|    1|    A|Cultivo de planta...|Agricultura, gana...|AGRICULTURA, GANA...|\n",
      "|14510|    1|    A|Cría de ganado po...|Agricultura, gana...|AGRICULTURA, GANA...|\n",
      "+-----+-----+-----+--------------------+--------------------+--------------------+\n",
      "only showing top 20 rows\n",
      "\n"
     ]
    }
   ],
   "source": [
    "data_actividades_df.show()"
   ]
  },
  {
   "cell_type": "code",
   "execution_count": 22,
   "metadata": {},
   "outputs": [],
   "source": [
    "# GENERAMOS ID UNICO PARA PODER RELACIONAR LAS TABLAS\n",
    "data_actividades_df = data_actividades_df.withColumn(\n",
    "    'id_act',\n",
    "    concat(col('letra'), lit('_'), col('clae6'))\n",
    ")"
   ]
  },
  {
   "cell_type": "markdown",
   "metadata": {},
   "source": [
    "**DATA GENERO**"
   ]
  },
  {
   "cell_type": "code",
   "execution_count": 23,
   "metadata": {},
   "outputs": [
    {
     "name": "stdout",
     "output_type": "stream",
     "text": [
      "+----------+---------------+------------+------------+---------+-----+-----+-----+-------+------+----------------+---------------------+----+\n",
      "|      anio|in_departamento|departamento|provincia_id|provincia|clae6|clae2|letra| genero|Empleo|Establecimientos|empresas_exportadoras|Sexo|\n",
      "+----------+---------------+------------+------------+---------+-----+-----+-----+-------+------+----------------+---------------------+----+\n",
      "|2021-01-01|           2007|    Comuna 1|           2|     CABA|11111|    1|    A|Varones|    29|               5|                    4|   1|\n",
      "|2021-01-01|           2007|    Comuna 1|           2|     CABA|11111|    1|    A|Mujeres|     4|               4|                    4|   0|\n",
      "|2021-01-01|           2007|    Comuna 1|           2|     CABA|11112|    1|    A|Varones|   295|              45|                    2|   1|\n",
      "|2021-01-01|           2007|    Comuna 1|           2|     CABA|11112|    1|    A|Mujeres|   112|              28|                    2|   0|\n",
      "|2021-01-01|           2007|    Comuna 1|           2|     CABA|11119|    1|    A|Varones|   911|             224|                    8|   1|\n",
      "+----------+---------------+------------+------------+---------+-----+-----+-----+-------+------+----------------+---------------------+----+\n",
      "only showing top 5 rows\n",
      "\n"
     ]
    }
   ],
   "source": [
    "data_genero_df = data_genero_df.withColumn(\n",
    "    'Sexo',\n",
    "    when((col('genero') == 'Varones'), 1)\n",
    "    .otherwise(0)\n",
    ")\n",
    "\n",
    "data_genero_df.show(5)"
   ]
  },
  {
   "cell_type": "code",
   "execution_count": 24,
   "metadata": {},
   "outputs": [],
   "source": [
    "data_genero_df = data_genero_df.withColumn(\n",
    "    'id_act',\n",
    "    concat(col('letra'), lit('_'), col('clae6'))\n",
    ")"
   ]
  },
  {
   "cell_type": "code",
   "execution_count": 25,
   "metadata": {},
   "outputs": [],
   "source": [
    "data_genero_df = data_genero_df.withColumn('Año', year(col('anio')))\n",
    "data_genero_df = data_genero_df.withColumn('Mes', month(col('anio')))"
   ]
  },
  {
   "cell_type": "markdown",
   "metadata": {},
   "source": [
    "**DATA SALARIO MEDIO**"
   ]
  },
  {
   "cell_type": "code",
   "execution_count": 26,
   "metadata": {},
   "outputs": [],
   "source": [
    "data_sal_med_df = data_sal_med_df.withColumn('Año', year(col('fecha')))\n",
    "data_sal_med_df = data_sal_med_df.withColumn('Mes', month(col('fecha')))"
   ]
  },
  {
   "cell_type": "markdown",
   "metadata": {},
   "source": [
    "## **ANÁLISIS DE DATOS**"
   ]
  },
  {
   "cell_type": "markdown",
   "metadata": {},
   "source": [
    "**Primero debemos entender que las jerarquías para la distribución de empleo y actividades con diversificación de género femenino se basan en provincia, departamento y sucursal.**\n",
    "\n",
    "- **El ID de la sucursal es 'cuit' en la tabla DATA DISTRIBUCIÓN.**\n",
    "\n",
    "- **El ID del departamento es 'in_departamento' en la tabla DATA DEP ACT, la cual comparte ID con la tabla DATA DISTRIBUCIÓN.**\n",
    "\n",
    "- **El ID del departamento en la tabla DATA GÉNERO es 'in_departamento', al igual que en la tabla anterior. De esta tabla también podremos extraer el género masculino y femenino por agrupación.**\n",
    "\n",
    "- **También, ambas tablas poseen un ID en común que es 'provincia_id'.**\n",
    "\n",
    "- **Ahora, para agrupar por clase de actividad, las tres tablas disponen de 'clae6' como ID, siendo la última tabla DATA ACTIVIDADES.**\n",
    "\n",
    "- **Por último, podemos obtener una serie histórica de los salarios promedio por actividad en el lapso de los años 2007-2023 con la clave de la actividad 'clae6'.**"
   ]
  },
  {
   "cell_type": "code",
   "execution_count": 32,
   "metadata": {},
   "outputs": [
    {
     "data": {
      "text/plain": [
       "['cuit',\n",
       " 'sucursal',\n",
       " 'anio',\n",
       " 'lat',\n",
       " 'lon',\n",
       " 'clae6',\n",
       " 'in_departamento',\n",
       " 'provincia_id',\n",
       " 'quintil',\n",
       " 'empleo',\n",
       " 'proporcion_mujeres',\n",
       " 'Año',\n",
       " 'Mes',\n",
       " 'Min_empleados',\n",
       " 'Max_empleados',\n",
       " 'Mujeres',\n",
       " 'Nivel_Empleo']"
      ]
     },
     "execution_count": 32,
     "metadata": {},
     "output_type": "execute_result"
    }
   ],
   "source": [
    "# Claves primarias de las 5 tablas\n",
    "data_distribucion_df.columns"
   ]
  },
  {
   "cell_type": "code",
   "execution_count": 28,
   "metadata": {},
   "outputs": [
    {
     "data": {
      "text/plain": [
       "['anio',\n",
       " 'in_departamento',\n",
       " 'departamento',\n",
       " 'provincia_id',\n",
       " 'provincia',\n",
       " 'clae6',\n",
       " 'clae2',\n",
       " 'letra',\n",
       " 'Empleo',\n",
       " 'Establecimientos',\n",
       " 'empresas_exportadoras',\n",
       " 'Año',\n",
       " 'Mes']"
      ]
     },
     "execution_count": 28,
     "metadata": {},
     "output_type": "execute_result"
    }
   ],
   "source": [
    "data_dep_act_df.columns"
   ]
  },
  {
   "cell_type": "code",
   "execution_count": 29,
   "metadata": {},
   "outputs": [
    {
     "data": {
      "text/plain": [
       "['anio',\n",
       " 'in_departamento',\n",
       " 'departamento',\n",
       " 'provincia_id',\n",
       " 'provincia',\n",
       " 'clae6',\n",
       " 'clae2',\n",
       " 'letra',\n",
       " 'genero',\n",
       " 'Empleo',\n",
       " 'Establecimientos',\n",
       " 'empresas_exportadoras',\n",
       " 'Sexo',\n",
       " 'id_act',\n",
       " 'Año',\n",
       " 'Mes']"
      ]
     },
     "execution_count": 29,
     "metadata": {},
     "output_type": "execute_result"
    }
   ],
   "source": [
    "data_genero_df.columns"
   ]
  },
  {
   "cell_type": "code",
   "execution_count": 30,
   "metadata": {},
   "outputs": [
    {
     "data": {
      "text/plain": [
       "['clae6', 'clae2', 'letra', 'clae6_desc', 'clae2_desc', 'letra_desc', 'id_act']"
      ]
     },
     "execution_count": 30,
     "metadata": {},
     "output_type": "execute_result"
    }
   ],
   "source": [
    "data_actividades_df.columns"
   ]
  },
  {
   "cell_type": "code",
   "execution_count": 31,
   "metadata": {},
   "outputs": [
    {
     "data": {
      "text/plain": [
       "['fecha', 'clae6', 'w_mean', 'Año', 'Mes']"
      ]
     },
     "execution_count": 31,
     "metadata": {},
     "output_type": "execute_result"
    }
   ],
   "source": [
    "data_sal_med_df.columns"
   ]
  },
  {
   "cell_type": "markdown",
   "metadata": {},
   "source": [
    "## **INFORMACION RELEVANTE A RECOLECTAR CON SPARK SQL**"
   ]
  },
  {
   "cell_type": "markdown",
   "metadata": {},
   "source": [
    "**PASOS A SEGUIR PARA LA CONSULTA POR MODELO RELACIONAL**\n",
    "\n",
    "**NORMALIZAR LAS 5 TABLAS**\n",
    "\n",
    "**REALIZAR LAS SIGUIENTES CONSULTAS SQL C/ SPARK:**\n",
    "\n",
    "**A NIVEL PROVINCIA:**\n",
    "- **DISTRITOS Y SUCURSALES, ACTIVIDAD Y LETRA, CANTIDAD DE EMPLEADOS, DISTRIBUCIÓN DE GÉNERO Y PROPORCIÓN DE MUJERES.**\n",
    "  \n",
    "**A NIVEL DISTRITO:**\n",
    "- **SUCURSALES, ACTIVIDAD Y LETRA, CANTIDAD DE EMPLEADOS, DISTRIBUCIÓN DE GÉNERO Y PROPORCIÓN DE MUJERES.**\n",
    "  \n",
    "**A NIVEL SUCURSALES:**\n",
    "- **ACTIVIDAD Y LETRA, NIVEL DE EMPLEO Y CANTIDAD DE EMPLEADOS, DE ELLO SABER PROPORCIÓN DE MUJERES, DISTRIBUCIÓN DE GÉNERO.**\n",
    "  \n",
    "**A NIVEL ACTIVIDAD:**\n",
    "- **SALARIO MEDIO EN FUNCIÓN DE AÑOS POR ACTIVIDAD.**\n",
    "\n",
    "**A NIVEL SALARIO:**\n",
    "- **Análisis de la serie histórica**\n"
   ]
  },
  {
   "cell_type": "code",
   "execution_count": 33,
   "metadata": {},
   "outputs": [
    {
     "name": "stdout",
     "output_type": "stream",
     "text": [
      "+--------------+--------+----------+---+---+------+---------------+------------+-------+------+------------------+----+---+-------------+-------------+-------+------------+\n",
      "|          cuit|sucursal|      anio|lat|lon| clae6|in_departamento|provincia_id|quintil|empleo|proporcion_mujeres| Año|Mes|Min_empleados|Max_empleados|Mujeres|Nivel_Empleo|\n",
      "+--------------+--------+----------+---+---+------+---------------+------------+-------+------+------------------+----+---+-------------+-------------+-------+------------+\n",
      "|84X20AZ402006P|       1|2021-01-01|-32|-60|475230|          30077|          30|      0|a. 1-9|                 0|2021|  1|            1|            9|  false|           a|\n",
      "|84X20AZ402006P|       1|2022-01-01|-32|-60|475230|          30077|          30|      0|a. 1-9|                 0|2022|  1|            1|            9|  false|           a|\n",
      "+--------------+--------+----------+---+---+------+---------------+------------+-------+------+------------------+----+---+-------------+-------------+-------+------------+\n",
      "only showing top 2 rows\n",
      "\n"
     ]
    }
   ],
   "source": [
    "data_distribucion_df.show(2)"
   ]
  },
  {
   "cell_type": "code",
   "execution_count": 34,
   "metadata": {},
   "outputs": [
    {
     "name": "stdout",
     "output_type": "stream",
     "text": [
      "+----------+---------------+------------+------------+---------+-----+-----+-----+-------+------+----------------+---------------------+----+-------+----+---+\n",
      "|      anio|in_departamento|departamento|provincia_id|provincia|clae6|clae2|letra| genero|Empleo|Establecimientos|empresas_exportadoras|Sexo| id_act| Año|Mes|\n",
      "+----------+---------------+------------+------------+---------+-----+-----+-----+-------+------+----------------+---------------------+----+-------+----+---+\n",
      "|2021-01-01|           2007|    Comuna 1|           2|     CABA|11111|    1|    A|Varones|    29|               5|                    4|   1|A_11111|2021|  1|\n",
      "|2021-01-01|           2007|    Comuna 1|           2|     CABA|11111|    1|    A|Mujeres|     4|               4|                    4|   0|A_11111|2021|  1|\n",
      "+----------+---------------+------------+------------+---------+-----+-----+-----+-------+------+----------------+---------------------+----+-------+----+---+\n",
      "only showing top 2 rows\n",
      "\n"
     ]
    }
   ],
   "source": [
    "data_genero_df.show(2)"
   ]
  },
  {
   "cell_type": "code",
   "execution_count": 35,
   "metadata": {},
   "outputs": [
    {
     "name": "stdout",
     "output_type": "stream",
     "text": [
      "+----------+---------------+------------+------------+---------+-----+-----+-----+------+----------------+---------------------+----+---+\n",
      "|      anio|in_departamento|departamento|provincia_id|provincia|clae6|clae2|letra|Empleo|Establecimientos|empresas_exportadoras| Año|Mes|\n",
      "+----------+---------------+------------+------------+---------+-----+-----+-----+------+----------------+---------------------+----+---+\n",
      "|2021-01-01|           2007|    Comuna 1|           2|     CABA|11111|    1|    A|    33|               9|                    4|2021|  1|\n",
      "|2021-01-01|           2007|    Comuna 1|           2|     CABA|11112|    1|    A|   407|              73|                    2|2021|  1|\n",
      "+----------+---------------+------------+------------+---------+-----+-----+-----+------+----------------+---------------------+----+---+\n",
      "only showing top 2 rows\n",
      "\n"
     ]
    }
   ],
   "source": [
    "data_dep_act_df.show(2)"
   ]
  },
  {
   "cell_type": "code",
   "execution_count": 36,
   "metadata": {},
   "outputs": [
    {
     "name": "stdout",
     "output_type": "stream",
     "text": [
      "+-----+-----+-----+--------------------+--------------------+--------------------+-------+\n",
      "|clae6|clae2|letra|          clae6_desc|          clae2_desc|          letra_desc| id_act|\n",
      "+-----+-----+-----+--------------------+--------------------+--------------------+-------+\n",
      "|14211|    1|    A|Cría de ganado eq...|Agricultura, gana...|AGRICULTURA, GANA...|A_14211|\n",
      "|11331|    1|    A|Cultivo de hortal...|Agricultura, gana...|AGRICULTURA, GANA...|A_11331|\n",
      "+-----+-----+-----+--------------------+--------------------+--------------------+-------+\n",
      "only showing top 2 rows\n",
      "\n"
     ]
    }
   ],
   "source": [
    "data_actividades_df.show(2)"
   ]
  },
  {
   "cell_type": "code",
   "execution_count": 37,
   "metadata": {},
   "outputs": [
    {
     "name": "stdout",
     "output_type": "stream",
     "text": [
      "+----------+-----+------+----+---+\n",
      "|     fecha|clae6|w_mean| Año|Mes|\n",
      "+----------+-----+------+----+---+\n",
      "|2007-01-01|11111|  1214|2007|  1|\n",
      "|2007-01-01|11112|  1430|2007|  1|\n",
      "+----------+-----+------+----+---+\n",
      "only showing top 2 rows\n",
      "\n"
     ]
    }
   ],
   "source": [
    "data_sal_med_df.show(2)"
   ]
  },
  {
   "cell_type": "markdown",
   "metadata": {},
   "source": [
    "**NORMALIZAMOS DEPARTAMENTO Y PROVINCIA EN LAS TABLAS CORRESPONDIENTES**"
   ]
  },
  {
   "cell_type": "code",
   "execution_count": 38,
   "metadata": {},
   "outputs": [],
   "source": [
    "data_dep_id = data_genero_df.select('in_departamento', 'departamento').distinct().collect()"
   ]
  },
  {
   "cell_type": "code",
   "execution_count": 39,
   "metadata": {},
   "outputs": [],
   "source": [
    "schema = StructType([\n",
    "  StructField('id_departamento', IntegerType(), True),\n",
    "  StructField('departamento', StringType(), True),\n",
    "])\n",
    "\n",
    "data_dep_df = spark.createDataFrame(data_dep_id, schema)"
   ]
  },
  {
   "cell_type": "code",
   "execution_count": 40,
   "metadata": {},
   "outputs": [
    {
     "name": "stdout",
     "output_type": "stream",
     "text": [
      "+---------------+------------------+\n",
      "|id_departamento|      departamento|\n",
      "+---------------+------------------+\n",
      "|          18112|     Monte Caseros|\n",
      "|           6833|      Tres Arroyos|\n",
      "|          14161|    Tercero Arriba|\n",
      "|          18175|             Sauce|\n",
      "|          14168|           Totoral|\n",
      "|          18063|       General Paz|\n",
      "|          26021|         Escalante|\n",
      "|          10091|       Santa María|\n",
      "|          26063|          Mártires|\n",
      "|           6686|             Rojas|\n",
      "|           6392|  General Villegas|\n",
      "|           6063|          Balcarce|\n",
      "|           6231|          Daireaux|\n",
      "|           6525|        Marcos Paz|\n",
      "|          14042|General San Martín|\n",
      "|           6413|             Junín|\n",
      "|          22112|         O'Higgins|\n",
      "|           6672|             Rauch|\n",
      "|          18007|       Bella Vista|\n",
      "|           2077|         Comuna 11|\n",
      "+---------------+------------------+\n",
      "only showing top 20 rows\n",
      "\n"
     ]
    }
   ],
   "source": [
    "data_dep_df.show()"
   ]
  },
  {
   "cell_type": "code",
   "execution_count": 41,
   "metadata": {},
   "outputs": [],
   "source": [
    "data_prov = data_genero_df.select('provincia_id', 'provincia').distinct().collect()\n",
    "schema = StructType([\n",
    "  StructField('provincia_id', IntegerType(), True),\n",
    "  StructField('provincia', StringType(), True),\n",
    "])\n",
    "\n",
    "data_prov_df = spark.createDataFrame(data_prov, schema)"
   ]
  },
  {
   "cell_type": "code",
   "execution_count": 42,
   "metadata": {},
   "outputs": [],
   "source": [
    "data_dep_act_df = data_dep_act_df.drop('departamento', 'provincia')\n",
    "data_genero_df = data_genero_df.drop('departamento', 'provincia')"
   ]
  },
  {
   "cell_type": "code",
   "execution_count": 52,
   "metadata": {},
   "outputs": [
    {
     "name": "stdout",
     "output_type": "stream",
     "text": [
      "+--------------+--------+----------+---+---+------+---------------+------------+-------+------+------------------+----+---+-------------+-------------+-------+------------+\n",
      "|          cuit|sucursal|      anio|lat|lon| clae6|in_departamento|provincia_id|quintil|empleo|proporcion_mujeres| Año|Mes|Min_empleados|Max_empleados|Mujeres|Nivel_Empleo|\n",
      "+--------------+--------+----------+---+---+------+---------------+------------+-------+------+------------------+----+---+-------------+-------------+-------+------------+\n",
      "|84X20AZ402006P|       1|2021-01-01|-32|-60|475230|          30077|          30|      0|a. 1-9|                 0|2021|  1|            1|            9|  false|           a|\n",
      "+--------------+--------+----------+---+---+------+---------------+------------+-------+------+------------------+----+---+-------------+-------------+-------+------------+\n",
      "only showing top 1 row\n",
      "\n"
     ]
    }
   ],
   "source": [
    "data_distribucion_df.show(1)"
   ]
  },
  {
   "cell_type": "code",
   "execution_count": 53,
   "metadata": {},
   "outputs": [
    {
     "name": "stdout",
     "output_type": "stream",
     "text": [
      "+----------+---------------+------------+-----+-----+-----+------+----------------+---------------------+----+---+\n",
      "|      anio|in_departamento|provincia_id|clae6|clae2|letra|Empleo|Establecimientos|empresas_exportadoras| Año|Mes|\n",
      "+----------+---------------+------------+-----+-----+-----+------+----------------+---------------------+----+---+\n",
      "|2021-01-01|           2007|           2|11111|    1|    A|    33|               9|                    4|2021|  1|\n",
      "+----------+---------------+------------+-----+-----+-----+------+----------------+---------------------+----+---+\n",
      "only showing top 1 row\n",
      "\n"
     ]
    }
   ],
   "source": [
    "data_dep_act_df.show(1)"
   ]
  },
  {
   "cell_type": "code",
   "execution_count": 54,
   "metadata": {},
   "outputs": [
    {
     "name": "stdout",
     "output_type": "stream",
     "text": [
      "+----------+---------------+------------+-----+-----+-----+-------+------+----------------+---------------------+----+-------+----+---+\n",
      "|      anio|in_departamento|provincia_id|clae6|clae2|letra| genero|Empleo|Establecimientos|empresas_exportadoras|Sexo| id_act| Año|Mes|\n",
      "+----------+---------------+------------+-----+-----+-----+-------+------+----------------+---------------------+----+-------+----+---+\n",
      "|2021-01-01|           2007|           2|11111|    1|    A|Varones|    29|               5|                    4|   1|A_11111|2021|  1|\n",
      "|2021-01-01|           2007|           2|11111|    1|    A|Mujeres|     4|               4|                    4|   0|A_11111|2021|  1|\n",
      "|2021-01-01|           2007|           2|11112|    1|    A|Varones|   295|              45|                    2|   1|A_11112|2021|  1|\n",
      "|2021-01-01|           2007|           2|11112|    1|    A|Mujeres|   112|              28|                    2|   0|A_11112|2021|  1|\n",
      "|2021-01-01|           2007|           2|11119|    1|    A|Varones|   911|             224|                    8|   1|A_11119|2021|  1|\n",
      "+----------+---------------+------------+-----+-----+-----+-------+------+----------------+---------------------+----+-------+----+---+\n",
      "only showing top 5 rows\n",
      "\n"
     ]
    }
   ],
   "source": [
    "data_genero_df.show(5)"
   ]
  },
  {
   "cell_type": "code",
   "execution_count": 55,
   "metadata": {},
   "outputs": [
    {
     "name": "stdout",
     "output_type": "stream",
     "text": [
      "+-----+-----+-----+--------------------+--------------------+--------------------+-------+\n",
      "|clae6|clae2|letra|          clae6_desc|          clae2_desc|          letra_desc| id_act|\n",
      "+-----+-----+-----+--------------------+--------------------+--------------------+-------+\n",
      "|14211|    1|    A|Cría de ganado eq...|Agricultura, gana...|AGRICULTURA, GANA...|A_14211|\n",
      "|11331|    1|    A|Cultivo de hortal...|Agricultura, gana...|AGRICULTURA, GANA...|A_11331|\n",
      "|14410|    1|    A|Cría de ganado ov...|Agricultura, gana...|AGRICULTURA, GANA...|A_14410|\n",
      "|11211|    1|    A|     Cultivo de soja|Agricultura, gana...|AGRICULTURA, GANA...|A_11211|\n",
      "|17010|    1|    A|Caza y repoblació...|Agricultura, gana...|AGRICULTURA, GANA...|A_17010|\n",
      "|11400|    1|    A|   Cultivo de tabaco|Agricultura, gana...|AGRICULTURA, GANA...|A_11400|\n",
      "|12121|    1|    A|Cultivo de uva de...|Agricultura, gana...|AGRICULTURA, GANA...|A_12121|\n",
      "|14720|    1|    A|Producción de pel...|Agricultura, gana...|AGRICULTURA, GANA...|A_14720|\n",
      "|12110|    1|    A|Cultivo de vid pa...|Agricultura, gana...|AGRICULTURA, GANA...|A_12110|\n",
      "|14520|    1|    A|Cría de ganado po...|Agricultura, gana...|AGRICULTURA, GANA...|A_14520|\n",
      "|14221|    1|    A|Cría de ganado eq...|Agricultura, gana...|AGRICULTURA, GANA...|A_14221|\n",
      "|12701|    1|    A|Cultivo de yerba ...|Agricultura, gana...|AGRICULTURA, GANA...|A_12701|\n",
      "|12709|    1|    A|Cultivo de té y o...|Agricultura, gana...|AGRICULTURA, GANA...|A_12709|\n",
      "|16291|    1|    A|Servicios para el...|Agricultura, gana...|AGRICULTURA, GANA...|A_16291|\n",
      "|14121|    1|    A|Cría de ganado bo...|Agricultura, gana...|AGRICULTURA, GANA...|A_14121|\n",
      "|13020|    1|    A|Producción de otr...|Agricultura, gana...|AGRICULTURA, GANA...|A_13020|\n",
      "|16111|    1|    A|Servicios de labr...|Agricultura, gana...|AGRICULTURA, GANA...|A_16111|\n",
      "|14990|    1|    A|Cría de animales ...|Agricultura, gana...|AGRICULTURA, GANA...|A_14990|\n",
      "|12590|    1|    A|Cultivo de planta...|Agricultura, gana...|AGRICULTURA, GANA...|A_12590|\n",
      "|14510|    1|    A|Cría de ganado po...|Agricultura, gana...|AGRICULTURA, GANA...|A_14510|\n",
      "+-----+-----+-----+--------------------+--------------------+--------------------+-------+\n",
      "only showing top 20 rows\n",
      "\n"
     ]
    }
   ],
   "source": [
    "data_actividades_df.show(20)"
   ]
  },
  {
   "cell_type": "code",
   "execution_count": 56,
   "metadata": {},
   "outputs": [
    {
     "name": "stdout",
     "output_type": "stream",
     "text": [
      "+---------------+------------------+\n",
      "|id_departamento|      departamento|\n",
      "+---------------+------------------+\n",
      "|          18112|     Monte Caseros|\n",
      "|           6833|      Tres Arroyos|\n",
      "|          14161|    Tercero Arriba|\n",
      "|          18175|             Sauce|\n",
      "|          14168|           Totoral|\n",
      "|          18063|       General Paz|\n",
      "|          26021|         Escalante|\n",
      "|          10091|       Santa María|\n",
      "|          26063|          Mártires|\n",
      "|           6686|             Rojas|\n",
      "|           6392|  General Villegas|\n",
      "|           6063|          Balcarce|\n",
      "|           6231|          Daireaux|\n",
      "|           6525|        Marcos Paz|\n",
      "|          14042|General San Martín|\n",
      "|           6413|             Junín|\n",
      "|          22112|         O'Higgins|\n",
      "|           6672|             Rauch|\n",
      "|          18007|       Bella Vista|\n",
      "|           2077|         Comuna 11|\n",
      "+---------------+------------------+\n",
      "only showing top 20 rows\n",
      "\n"
     ]
    }
   ],
   "source": [
    "data_dep_df.show()"
   ]
  },
  {
   "cell_type": "code",
   "execution_count": 57,
   "metadata": {},
   "outputs": [
    {
     "name": "stdout",
     "output_type": "stream",
     "text": [
      "+------------+----------------+\n",
      "|provincia_id|       provincia|\n",
      "+------------+----------------+\n",
      "|           2|            CABA|\n",
      "|          18|      Corrientes|\n",
      "|          26|          Chubut|\n",
      "|          14|         Cordoba|\n",
      "|          10|       Catamarca|\n",
      "|          22|           Chaco|\n",
      "|           6|    Buenos Aires|\n",
      "|          30|      Entre Rios|\n",
      "|          82|        Santa Fe|\n",
      "|          42|        La Pampa|\n",
      "|          58|         Neuquen|\n",
      "|          38|           Jujuy|\n",
      "|          78|      Santa Cruz|\n",
      "|          94|Tierra Del Fuego|\n",
      "|          54|        Misiones|\n",
      "|          50|         Mendoza|\n",
      "|          66|           Salta|\n",
      "|          70|        San Juan|\n",
      "|          90|         Tucuman|\n",
      "|          46|        La Rioja|\n",
      "+------------+----------------+\n",
      "only showing top 20 rows\n",
      "\n"
     ]
    }
   ],
   "source": [
    "data_prov_df.show()"
   ]
  },
  {
   "cell_type": "code",
   "execution_count": 58,
   "metadata": {},
   "outputs": [
    {
     "name": "stdout",
     "output_type": "stream",
     "text": [
      "+----------+-----+------+----+---+\n",
      "|     fecha|clae6|w_mean| Año|Mes|\n",
      "+----------+-----+------+----+---+\n",
      "|2007-01-01|11111|  1214|2007|  1|\n",
      "|2007-01-01|11112|  1430|2007|  1|\n",
      "|2007-01-01|11119|  1196|2007|  1|\n",
      "|2007-01-01|11121|  1428|2007|  1|\n",
      "|2007-01-01|11129|  1077|2007|  1|\n",
      "|2007-01-01|11130|  1061|2007|  1|\n",
      "|2007-01-01|11211|  1149|2007|  1|\n",
      "|2007-01-01|11291|  1005|2007|  1|\n",
      "|2007-01-01|11299|  1033|2007|  1|\n",
      "|2007-01-01|11310|   765|2007|  1|\n",
      "|2007-01-01|11321|   667|2007|  1|\n",
      "|2007-01-01|11329|   794|2007|  1|\n",
      "|2007-01-01|11331|   821|2007|  1|\n",
      "|2007-01-01|11341|   914|2007|  1|\n",
      "|2007-01-01|11342|  1019|2007|  1|\n",
      "|2007-01-01|11400|   645|2007|  1|\n",
      "|2007-01-01|11501|   411|2007|  1|\n",
      "|2007-01-01|11509|  1106|2007|  1|\n",
      "|2007-01-01|11911|   838|2007|  1|\n",
      "|2007-01-01|11912|   969|2007|  1|\n",
      "+----------+-----+------+----+---+\n",
      "only showing top 20 rows\n",
      "\n"
     ]
    }
   ],
   "source": [
    "data_sal_med_df.show()"
   ]
  },
  {
   "cell_type": "markdown",
   "metadata": {},
   "source": [
    "**CREAMOS LAS TABLAS PARA GENERAR LAS CONSULTAS CORRESPONDIENTES**"
   ]
  },
  {
   "cell_type": "code",
   "execution_count": 59,
   "metadata": {},
   "outputs": [],
   "source": [
    "data_distribucion_df.createOrReplaceTempView(\"data_distribucion\")\n",
    "data_genero_df.createOrReplaceTempView(\"data_genero\")\n",
    "data_dep_act_df.createOrReplaceTempView(\"data_dep_act\")\n",
    "data_actividades_df.createOrReplaceTempView(\"data_actividades\")\n",
    "data_prov_df.createOrReplaceTempView('data_provincias')\n",
    "data_dep_df.createOrReplaceTempView('data_departamentos')\n",
    "data_sal_med_df.createOrReplaceTempView('data_salarios')"
   ]
  },
  {
   "cell_type": "markdown",
   "metadata": {},
   "source": [
    "**CONSULTAS SQL PYSPARK**"
   ]
  },
  {
   "cell_type": "markdown",
   "metadata": {},
   "source": [
    "- A NIVEL PROVINCIA:\n",
    "    - A - CUANTOS DEPARTAMENTOS Y SUCURSALES TIENE CADA PROVINCIA.\n",
    "    - B - CANTIDAD DE EMPLEADOS DE CADA PROVINCIA.\n",
    "    - C - DE LA CANTIDAD DE EMPLEADOS DE CADA PROVINCIA, SABER LA PROPORCION DE MUJERES.\n",
    "    - D - DISTRIBUCION DE GENERO POR CADA PROVINCIA.\n",
    "    - E - ACTIVIDAD PROMEDIO Y LETRA PROMEDIO DE CADA PROVINCIA."
   ]
  },
  {
   "cell_type": "markdown",
   "metadata": {},
   "source": [
    "**PROVINCIA**"
   ]
  },
  {
   "cell_type": "code",
   "execution_count": 60,
   "metadata": {},
   "outputs": [
    {
     "name": "stdout",
     "output_type": "stream",
     "text": [
      "+-------------------+-------------+----------+\n",
      "|         Provincias|Departamentos|Sucursales|\n",
      "+-------------------+-------------+----------+\n",
      "|       Buenos Aires|          135|    194800|\n",
      "|               CABA|           15|    142104|\n",
      "|            Cordoba|           26|     58266|\n",
      "|           Santa Fe|           19|     57146|\n",
      "|            Mendoza|           18|     25715|\n",
      "|         Entre Rios|           17|     18379|\n",
      "|            Tucuman|           17|     12857|\n",
      "|          Rio Negro|           13|     11761|\n",
      "|              Salta|           23|     10836|\n",
      "|           Misiones|           17|     10777|\n",
      "|            Neuquen|           16|     10513|\n",
      "|              Chaco|           25|      9651|\n",
      "|         Corrientes|           25|      9640|\n",
      "|             Chubut|           15|      9434|\n",
      "|           San Juan|           19|      7823|\n",
      "|           La Pampa|           22|      7289|\n",
      "|Santiago Del Estero|           27|      6293|\n",
      "|           San Luis|            9|      5893|\n",
      "|              Jujuy|           16|      5495|\n",
      "|         Santa Cruz|            7|      4418|\n",
      "|          Catamarca|           16|      3444|\n",
      "|            Formosa|            9|      3030|\n",
      "|   Tierra Del Fuego|            3|      2902|\n",
      "|           La Rioja|           18|      2838|\n",
      "+-------------------+-------------+----------+\n",
      "\n"
     ]
    }
   ],
   "source": [
    "# CUANTOS DEPARTAMENTOS Y SUCURSALES TIENE CADA PROVINCIA\n",
    "dep_suc_prov = spark.sql(\"\"\"\n",
    "SELECT (p.provincia) AS Provincias, COUNT(DISTINCT dis.in_departamento) AS Departamentos, COUNT(DISTINCT dis.cuit) AS Sucursales\n",
    "FROM data_distribucion AS dis\n",
    "JOIN data_provincias AS p\n",
    "ON dis.provincia_id = p.provincia_id\n",
    "GROUP BY Provincias\n",
    "ORDER BY Sucursales DESC\"\"\")\n",
    "\n",
    "dep_suc_prov.show(24)"
   ]
  },
  {
   "cell_type": "code",
   "execution_count": 61,
   "metadata": {},
   "outputs": [
    {
     "name": "stdout",
     "output_type": "stream",
     "text": [
      "+-------------------+----------------+----------------+------------------+\n",
      "|         Provincias|Cantidad_Hombres|Cantidad_Mujeres|Cantidad_Empleados|\n",
      "+-------------------+----------------+----------------+------------------+\n",
      "|       Buenos Aires|           61469|           50271|            111740|\n",
      "|               CABA|           16797|           14629|             31426|\n",
      "|            Cordoba|           12774|           10530|             23304|\n",
      "|           Santa Fe|           11387|            9440|             20827|\n",
      "|            Mendoza|            8949|            6889|             15838|\n",
      "|         Entre Rios|            7122|            5225|             12347|\n",
      "|            Tucuman|            4817|            3551|              8368|\n",
      "|           Misiones|            4802|            3509|              8311|\n",
      "|         Corrientes|            4909|            3194|              8103|\n",
      "|              Chaco|            4633|            2920|              7553|\n",
      "|              Salta|            4144|            3010|              7154|\n",
      "|           San Juan|            4244|            2740|              6984|\n",
      "|          Rio Negro|            3568|            2907|              6475|\n",
      "|             Chubut|            3419|            2846|              6265|\n",
      "|           La Pampa|            3467|            2641|              6108|\n",
      "|            Neuquen|            3300|            2753|              6053|\n",
      "|Santiago Del Estero|            3519|            2281|              5800|\n",
      "|              Jujuy|            2648|            1931|              4579|\n",
      "|           San Luis|            2572|            1911|              4483|\n",
      "|         Santa Cruz|            2014|            1702|              3716|\n",
      "|          Catamarca|            2071|            1387|              3458|\n",
      "|           La Rioja|            1622|            1219|              2841|\n",
      "|            Formosa|            1567|            1091|              2658|\n",
      "|   Tierra Del Fuego|            1254|            1052|              2306|\n",
      "+-------------------+----------------+----------------+------------------+\n",
      "\n"
     ]
    }
   ],
   "source": [
    "# CANTIDAD DE EMPLEADOS POR CADA PROVINCIA Y DISTINCION DE GENERO\n",
    "emp_prov = spark.sql(\"\"\"\n",
    "SELECT (p.provincia) AS Provincias,\n",
    "        SUM(CASE WHEN gen.genero = 'Varones' THEN 1 ELSE 0 END) AS Cantidad_Hombres,\n",
    "        SUM(CASE WHEN gen.genero = 'Mujeres' THEN 1 ELSE 0 END) AS Cantidad_Mujeres,\n",
    "        COUNT(*) AS Cantidad_Empleados\n",
    "FROM data_genero AS gen\n",
    "JOIN data_provincias AS p\n",
    "ON gen.provincia_id = p.provincia_id\n",
    "GROUP BY Provincias\n",
    "ORDER BY Cantidad_Empleados DESC\n",
    "\"\"\")                 \n",
    "\n",
    "emp_prov.show(24)"
   ]
  },
  {
   "cell_type": "code",
   "execution_count": 62,
   "metadata": {},
   "outputs": [
    {
     "name": "stdout",
     "output_type": "stream",
     "text": [
      "+-------------------+------------------+\n",
      "|         Provincias|Proporcion_mujeres|\n",
      "+-------------------+------------------+\n",
      "|       Buenos Aires|            169071|\n",
      "|               CABA|            121327|\n",
      "|            Cordoba|             47294|\n",
      "|           Santa Fe|             44806|\n",
      "|            Mendoza|             17745|\n",
      "|         Entre Rios|             13458|\n",
      "|          Rio Negro|             10465|\n",
      "|            Neuquen|              9792|\n",
      "|            Tucuman|              9438|\n",
      "|             Chubut|              8518|\n",
      "|              Salta|              8242|\n",
      "|           Misiones|              7110|\n",
      "|              Chaco|              5897|\n",
      "|         Corrientes|              5773|\n",
      "|           La Pampa|              5494|\n",
      "|           San Juan|              5397|\n",
      "|           San Luis|              4625|\n",
      "|Santiago Del Estero|              4464|\n",
      "|         Santa Cruz|              4236|\n",
      "|              Jujuy|              4207|\n",
      "+-------------------+------------------+\n",
      "only showing top 20 rows\n",
      "\n"
     ]
    }
   ],
   "source": [
    "# DISTRIBUCION DE MUJERES\n",
    "dist_mujeres = spark.sql(\"\"\"\n",
    "SELECT p.provincia AS Provincias, SUM(proporcion_mujeres) AS Proporcion_mujeres\n",
    "FROM data_distribucion AS DIS\n",
    "JOIN data_provincias AS p\n",
    "ON dis.provincia_id = p.provincia_id\n",
    "GROUP BY Provincias\n",
    "ORDER BY Proporcion_mujeres DESC\"\"\")\n",
    "\n",
    "dist_mujeres.show()"
   ]
  },
  {
   "cell_type": "code",
   "execution_count": 63,
   "metadata": {},
   "outputs": [
    {
     "name": "stdout",
     "output_type": "stream",
     "text": [
      "+-------------------+------------------+\n",
      "|         Provincias|Cantidad_Empleados|\n",
      "+-------------------+------------------+\n",
      "|       Buenos Aires|           4115444|\n",
      "|               CABA|           3137197|\n",
      "|           Santa Fe|           1064197|\n",
      "|            Cordoba|           1050882|\n",
      "|            Mendoza|            495777|\n",
      "|            Tucuman|            359074|\n",
      "|         Entre Rios|            278325|\n",
      "|            Neuquen|            243015|\n",
      "|              Salta|            235378|\n",
      "|          Rio Negro|            225777|\n",
      "|           Misiones|            216948|\n",
      "|             Chubut|            196317|\n",
      "|              Chaco|            170500|\n",
      "|           San Juan|            168703|\n",
      "|         Corrientes|            159982|\n",
      "|              Jujuy|            122316|\n",
      "|         Santa Cruz|            116971|\n",
      "|           San Luis|            112037|\n",
      "|Santiago Del Estero|            107381|\n",
      "|           La Pampa|             78907|\n",
      "+-------------------+------------------+\n",
      "only showing top 20 rows\n",
      "\n"
     ]
    }
   ],
   "source": [
    "# CANTIDAD DE EMPLEADOS POR PROVINCIA EN DATA_DEP_ACT\n",
    "emp_prov_2 = spark.sql(\"\"\"\n",
    "SELECT p.provincia AS Provincias, SUM(dis2.Empleo) AS Cantidad_Empleados\n",
    "FROM data_dep_act AS dis2\n",
    "JOIN data_provincias AS p\n",
    "ON dis2.provincia_id = p.provincia_id\n",
    "GROUP BY Provincias\n",
    "ORDER BY Cantidad_Empleados DESC\"\"\")\n",
    "\n",
    "emp_prov_2.show()"
   ]
  },
  {
   "cell_type": "code",
   "execution_count": 64,
   "metadata": {},
   "outputs": [
    {
     "name": "stdout",
     "output_type": "stream",
     "text": [
      "+-------------------+------+----------------+--------------------------------------------------------------------------------------------------------------------------------------------------------------------------------+\n",
      "|Provincias         |clae6 |Actividad_conteo|Actividad                                                                                                                                                                       |\n",
      "+-------------------+------+----------------+--------------------------------------------------------------------------------------------------------------------------------------------------------------------------------+\n",
      "|Buenos Aires       |473000|534             |Venta al por menor de combustible para vehículos automotores y motocicletas (Incluye la venta al por menor de productos lubricantes y refrigerantes)                            |\n",
      "|Cordoba            |351320|102             |Distribución de energía eléctrica                                                                                                                                               |\n",
      "|Corrientes         |641930|94              |Servicios de la banca minorista                                                                                                                                                 |\n",
      "|Chaco              |477310|91              |Venta al por menor de productos farmacéuticos y de herboristería                                                                                                                |\n",
      "|Santiago Del Estero|473000|85              |Venta al por menor de combustible para vehículos automotores y motocicletas (Incluye la venta al por menor de productos lubricantes y refrigerantes)                            |\n",
      "|Santa Fe           |472171|76              |Venta al por menor de pan y productos de panadería                                                                                                                              |\n",
      "|La Pampa           |14113 |74              |Cría de ganado bovino, excepto la realizada en cabañas y para la producción de leche (Incluye: ganado bubalino)                                                                 |\n",
      "|Mendoza            |641930|72              |Servicios de la banca minorista                                                                                                                                                 |\n",
      "|Entre Rios         |14113 |68              |Cría de ganado bovino, excepto la realizada en cabañas y para la producción de leche (Incluye: ganado bubalino)                                                                 |\n",
      "|San Juan           |12110 |67              |Cultivo de vid para vinificar                                                                                                                                                   |\n",
      "|Misiones           |471130|65              |Venta al por menor en minimercados (Incluye mercaditos, autoservicios y establecimientos similares que vendan carnes, verduras y demás productos alimenticios en forma conjunta)|\n",
      "|Salta              |11400 |65              |Cultivo de tabaco                                                                                                                                                               |\n",
      "|Tucuman            |473000|65              |Venta al por menor de combustible para vehículos automotores y motocicletas (Incluye la venta al por menor de productos lubricantes y refrigerantes)                            |\n",
      "|CABA               |477310|60              |Venta al por menor de productos farmacéuticos y de herboristería                                                                                                                |\n",
      "|Neuquen            |471130|57              |Venta al por menor en minimercados (Incluye mercaditos, autoservicios y establecimientos similares que vendan carnes, verduras y demás productos alimenticios en forma conjunta)|\n",
      "|Jujuy              |473000|51              |Venta al por menor de combustible para vehículos automotores y motocicletas (Incluye la venta al por menor de productos lubricantes y refrigerantes)                            |\n",
      "|Chubut             |351320|50              |Distribución de energía eléctrica                                                                                                                                               |\n",
      "|Catamarca          |473000|46              |Venta al por menor de combustible para vehículos automotores y motocicletas (Incluye la venta al por menor de productos lubricantes y refrigerantes)                            |\n",
      "|La Rioja           |473000|44              |Venta al por menor de combustible para vehículos automotores y motocicletas (Incluye la venta al por menor de productos lubricantes y refrigerantes)                            |\n",
      "|Rio Negro          |14113 |40              |Cría de ganado bovino, excepto la realizada en cabañas y para la producción de leche (Incluye: ganado bubalino)                                                                 |\n",
      "+-------------------+------+----------------+--------------------------------------------------------------------------------------------------------------------------------------------------------------------------------+\n",
      "only showing top 20 rows\n",
      "\n"
     ]
    }
   ],
   "source": [
    "# ACTIVIDAD Y LETRA PROMEDIO POR CADA PROVINCIA\n",
    "act_prov = spark.sql(\"\"\"\n",
    "WITH Actividad_conteo AS (\n",
    "    SELECT \n",
    "        p.provincia AS Provincias,\n",
    "        gen.clae6,\n",
    "        COUNT(gen.clae6) AS Actividad_conteo\n",
    "    FROM \n",
    "        data_genero AS gen                    \n",
    "    JOIN \n",
    "        data_provincias AS p \n",
    "    ON \n",
    "        gen.provincia_id = p.provincia_id\n",
    "    GROUP BY \n",
    "        p.provincia, gen.clae6\n",
    "),\n",
    "Max_Actividad_Provincia AS (\n",
    "    SELECT \n",
    "        Provincias, \n",
    "        clae6, \n",
    "        Actividad_conteo,\n",
    "        ROW_NUMBER() OVER (PARTITION BY Provincias ORDER BY Actividad_conteo DESC) AS ac\n",
    "    FROM \n",
    "        Actividad_conteo\n",
    ")\n",
    "SELECT \n",
    "    map.Provincias, \n",
    "    map.clae6,\n",
    "    map.Actividad_conteo,\n",
    "    act.clae6_desc AS Actividad\n",
    "FROM \n",
    "    Max_Actividad_Provincia AS map\n",
    "JOIN \n",
    "    data_actividades as act\n",
    "ON \n",
    "    map.clae6 = act.clae6\n",
    "WHERE \n",
    "    map.ac = 1\n",
    "ORDER BY\n",
    "    map.Actividad_conteo DESC\n",
    "\"\"\")\n",
    "\n",
    "act_prov.show(truncate=False)"
   ]
  },
  {
   "cell_type": "code",
   "execution_count": 65,
   "metadata": {},
   "outputs": [
    {
     "name": "stdout",
     "output_type": "stream",
     "text": [
      "+-------------------+--------+------------+----------------------------------------------------------------------------------------+\n",
      "|Provincias         |id_act  |Letra_conteo|Actividad_Letra                                                                         |\n",
      "+-------------------+--------+------------+----------------------------------------------------------------------------------------+\n",
      "|Buenos Aires       |G_473000|534         |COMERCIO AL POR MAYOR Y AL POR MENOR; REPARACIÓN DE VEHÍCULOS AUTOMOTORES Y MOTOCICLETAS|\n",
      "|Cordoba            |D_351320|102         |SUMINISTRO DE ELECTRICIDAD, GAS, VAPOR Y AIRE ACONDICIONADO                             |\n",
      "|Corrientes         |A_14113 |94          |AGRICULTURA, GANADERÍA, CAZA, SILVICULTURA Y PESCA                                      |\n",
      "|Chaco              |G_477310|91          |COMERCIO AL POR MAYOR Y AL POR MENOR; REPARACIÓN DE VEHÍCULOS AUTOMOTORES Y MOTOCICLETAS|\n",
      "|Santiago Del Estero|G_473000|85          |COMERCIO AL POR MAYOR Y AL POR MENOR; REPARACIÓN DE VEHÍCULOS AUTOMOTORES Y MOTOCICLETAS|\n",
      "|Santa Fe           |G_475300|76          |COMERCIO AL POR MAYOR Y AL POR MENOR; REPARACIÓN DE VEHÍCULOS AUTOMOTORES Y MOTOCICLETAS|\n",
      "|La Pampa           |A_14113 |74          |AGRICULTURA, GANADERÍA, CAZA, SILVICULTURA Y PESCA                                      |\n",
      "|Mendoza            |G_473000|72          |COMERCIO AL POR MAYOR Y AL POR MENOR; REPARACIÓN DE VEHÍCULOS AUTOMOTORES Y MOTOCICLETAS|\n",
      "|Entre Rios         |A_14113 |68          |AGRICULTURA, GANADERÍA, CAZA, SILVICULTURA Y PESCA                                      |\n",
      "|San Juan           |A_12110 |67          |AGRICULTURA, GANADERÍA, CAZA, SILVICULTURA Y PESCA                                      |\n",
      "|Misiones           |G_471130|65          |COMERCIO AL POR MAYOR Y AL POR MENOR; REPARACIÓN DE VEHÍCULOS AUTOMOTORES Y MOTOCICLETAS|\n",
      "|Salta              |A_11400 |65          |AGRICULTURA, GANADERÍA, CAZA, SILVICULTURA Y PESCA                                      |\n",
      "|Tucuman            |G_473000|65          |COMERCIO AL POR MAYOR Y AL POR MENOR; REPARACIÓN DE VEHÍCULOS AUTOMOTORES Y MOTOCICLETAS|\n",
      "|CABA               |S_960990|60          |SERVICIOS DE ASOCIACIONES Y SERVICIOS PERSONALES                                        |\n",
      "|Neuquen            |G_471130|57          |COMERCIO AL POR MAYOR Y AL POR MENOR; REPARACIÓN DE VEHÍCULOS AUTOMOTORES Y MOTOCICLETAS|\n",
      "|Jujuy              |G_473000|51          |COMERCIO AL POR MAYOR Y AL POR MENOR; REPARACIÓN DE VEHÍCULOS AUTOMOTORES Y MOTOCICLETAS|\n",
      "|Chubut             |D_351320|50          |SUMINISTRO DE ELECTRICIDAD, GAS, VAPOR Y AIRE ACONDICIONADO                             |\n",
      "|Catamarca          |G_473000|46          |COMERCIO AL POR MAYOR Y AL POR MENOR; REPARACIÓN DE VEHÍCULOS AUTOMOTORES Y MOTOCICLETAS|\n",
      "|La Rioja           |G_473000|44          |COMERCIO AL POR MAYOR Y AL POR MENOR; REPARACIÓN DE VEHÍCULOS AUTOMOTORES Y MOTOCICLETAS|\n",
      "|Rio Negro          |G_471120|40          |COMERCIO AL POR MAYOR Y AL POR MENOR; REPARACIÓN DE VEHÍCULOS AUTOMOTORES Y MOTOCICLETAS|\n",
      "+-------------------+--------+------------+----------------------------------------------------------------------------------------+\n",
      "only showing top 20 rows\n",
      "\n"
     ]
    }
   ],
   "source": [
    "# LETRA PROMEDIO POR PROVINCIA\n",
    "let_prov = spark.sql(\"\"\"\n",
    "WITH Letra_conteo AS (\n",
    "    SELECT\n",
    "        p.provincia AS Provincias,\n",
    "        gen.id_act,\n",
    "        COUNT(gen.id_act) AS Letra_conteo\n",
    "    FROM\n",
    "        data_genero AS gen\n",
    "    JOIN \n",
    "        data_provincias AS p\n",
    "    ON\n",
    "        gen.provincia_id = p.provincia_id\n",
    "    GROUP BY\n",
    "        p.provincia, gen.id_act\n",
    "),\n",
    "Max_Letra_Provincia AS (\n",
    "    SELECT \n",
    "        Provincias,\n",
    "        id_act,\n",
    "        Letra_conteo,\n",
    "        ROW_NUMBER () OVER (PARTITION BY Provincias ORDER BY Letra_conteo DESC) AS lc\n",
    "    FROM\n",
    "        Letra_conteo\n",
    ")\n",
    "SELECT \n",
    "    mlp.Provincias,\n",
    "    mlp.id_act,\n",
    "    mlp.Letra_conteo,\n",
    "    act.letra_desc AS Actividad_Letra\n",
    "FROM\n",
    "    Max_Letra_Provincia AS mlp\n",
    "JOIN\n",
    "    data_actividades AS act\n",
    "ON\n",
    "    mlp.id_act = act.id_act\n",
    "WHERE \n",
    "    mlp.lc = 1\n",
    "ORDER BY \n",
    "   mlp.Letra_conteo DESC\n",
    "\"\"\")\n",
    "\n",
    "let_prov.show(truncate=False)"
   ]
  },
  {
   "cell_type": "markdown",
   "metadata": {},
   "source": [
    "**DEPARTAMENTO**"
   ]
  },
  {
   "cell_type": "markdown",
   "metadata": {},
   "source": [
    "- A NIVEL DEPARTAMENTO:\n",
    "    - A - CUANTAS SUCURSALES TIENE CADA DEPARTAMENTO.\n",
    "    - B - CANTIDAD DE EMPLEADOS DE CADA DEPARTAMENTO.\n",
    "    - C - DE LA CANTIDAD DE EMPLEADOS SABER LA PROPORCION DE MUJERES.\n",
    "    - D - DISTRIBUCION DE GENERO POR CADA DEPARTAMENTO.\n",
    "    - E - ACTIVIDAD PROMEDIO Y LETRA PROMEDIO DE CADA DEPARTAMENTO.\n"
   ]
  },
  {
   "cell_type": "code",
   "execution_count": 66,
   "metadata": {},
   "outputs": [],
   "source": [
    "# CANTIDAD DE SUCURSALES POR DEPARTAMENTO\n",
    "dep_suc = spark.sql(\"\"\"\n",
    "SELECT\n",
    "    COUNT(DISTINCT dis.cuit) AS Sucursales,\n",
    "    d.departamento AS Departamentos\n",
    "FROM data_distribucion AS dis\n",
    "JOIN\n",
    "    data_departamentos AS d\n",
    "ON\n",
    "    dis.in_departamento = d.id_departamento\n",
    "GROUP BY Departamentos\n",
    "ORDER BY Sucursales DESC\"\"\")"
   ]
  },
  {
   "cell_type": "code",
   "execution_count": 67,
   "metadata": {},
   "outputs": [
    {
     "name": "stdout",
     "output_type": "stream",
     "text": [
      "+----------+------------------+\n",
      "|Sucursales|     Departamentos|\n",
      "+----------+------------------+\n",
      "|     60991|           Capital|\n",
      "|     35255|          Comuna 1|\n",
      "|     23300|           Rosario|\n",
      "|     16072|         Comuna 14|\n",
      "|     14611|         Comuna 13|\n",
      "|     14162|General Pueyrredón|\n",
      "|     12054|        La Matanza|\n",
      "|     11992|          Comuna 2|\n",
      "|     10661|          Comuna 3|\n",
      "|     10171|General San Martín|\n",
      "|      9701|         Comuna 15|\n",
      "|      9478|          La Plata|\n",
      "|      7714|          Comuna 6|\n",
      "|      7587|       Confluencia|\n",
      "|      7492|         Comuna 12|\n",
      "|      7489|        San Isidro|\n",
      "|      7487|     Vicente López|\n",
      "|      7158|          Comuna 7|\n",
      "|      7131|        La Capital|\n",
      "|      7108|          Comuna 5|\n",
      "+----------+------------------+\n",
      "only showing top 20 rows\n",
      "\n"
     ]
    }
   ],
   "source": [
    "dep_suc.show()"
   ]
  },
  {
   "cell_type": "code",
   "execution_count": 71,
   "metadata": {},
   "outputs": [],
   "source": [
    "# CANTIDAD DE EMPLEADOS, DISTRIBUCION H/M Y PROPORCION MUJERES\n",
    "dep_dist_gen = spark.sql(\"\"\"\n",
    "WITH Cantidad_hombres AS (\n",
    "    SELECT\n",
    "        gen.in_departamento AS id_dep,\n",
    "        SUM(CASE WHEN gen.genero = 'Varones' THEN 1 ELSE 0 END) AS Cantidad_hombres\n",
    "    FROM \n",
    "        data_genero AS gen\n",
    "    JOIN\n",
    "        data_departamentos AS d\n",
    "    ON\n",
    "        gen.in_departamento = d.id_departamento\n",
    "    GROUP BY\n",
    "        id_dep\n",
    "    ORDER BY \n",
    "        Cantidad_hombres DESC\n",
    "),\n",
    "                         \n",
    "Cantidad_mujeres AS (\n",
    "    SELECT\n",
    "        gen.in_departamento AS id_dep,            \n",
    "        SUM(CASE WHEN gen.genero = 'Mujeres' THEN 1 ELSE 0 END) AS Cantidad_mujeres\n",
    "    FROM\n",
    "        data_genero AS gen\n",
    "    JOIN\n",
    "        data_departamentos AS d\n",
    "    ON \n",
    "        gen.in_departamento = d.id_departamento\n",
    "    GROUP BY\n",
    "        id_dep\n",
    "    ORDER BY\n",
    "        Cantidad_mujeres DESC\n",
    ")                            \n",
    "SELECT\n",
    "    d.departamento AS Departamentos,\n",
    "    SUM(gen.Empleo) AS Empleados,\n",
    "    h.Cantidad_hombres,\n",
    "    m.Cantidad_mujeres,\n",
    "    ROUND((h.Cantidad_hombres / (h.Cantidad_hombres + m.Cantidad_mujeres)) * 100, 2) AS Proporcion_hombres,\n",
    "    ROUND((m.Cantidad_mujeres / (h.Cantidad_hombres + m.Cantidad_mujeres)) * 100, 2) AS Proporcion_mujeres\n",
    "FROM\n",
    "    data_genero AS gen\n",
    "JOIN \n",
    "    data_departamentos AS d\n",
    "ON\n",
    "    gen.in_departamento = d.id_departamento              \n",
    "JOIN\n",
    "    Cantidad_hombres AS h\n",
    "ON\n",
    "    d.id_departamento = h.id_dep\n",
    "JOIN \n",
    "    Cantidad_mujeres AS m\n",
    "ON\n",
    "    h.id_dep = m.id_dep       \n",
    "GROUP BY \n",
    "        Departamentos, h.Cantidad_hombres, m.Cantidad_mujeres\n",
    "ORDER BY \n",
    "        Empleados DESC\"\"\")"
   ]
  },
  {
   "cell_type": "code",
   "execution_count": null,
   "metadata": {},
   "outputs": [],
   "source": [
    "dep_dist_gen.show()"
   ]
  },
  {
   "cell_type": "code",
   "execution_count": 76,
   "metadata": {},
   "outputs": [],
   "source": [
    "# ACTIVIDAD MAS REALIZADA POR DEPARTAMENTO\n",
    "max_act_dep = spark.sql(\"\"\"\n",
    "WITH Actividad_conteo AS (\n",
    "SELECT\n",
    "    d.departamento AS Departamentos,\n",
    "    gen.clae6,\n",
    "    COUNT(gen.clae6) AS Actividad_conteo\n",
    "FROM \n",
    "    data_genero AS gen\n",
    "JOIN\n",
    "    data_departamentos AS d\n",
    "ON  \n",
    "    gen.in_departamento = d.id_departamento\n",
    "GROUP BY\n",
    "    Departamentos, gen.clae6\n",
    "ORDER BY\n",
    "    Actividad_conteo DESC\n",
    "),\n",
    "\n",
    "Max_Actividad_Dep AS (\n",
    "SELECT\n",
    "    Departamentos,\n",
    "    clae6,\n",
    "    Actividad_conteo,\n",
    "    ROW_NUMBER () OVER (PARTITION BY Departamentos ORDER BY Actividad_conteo DESC) AS ac\n",
    "FROM\n",
    "    Actividad_conteo\n",
    "\n",
    ")\n",
    "SELECT\n",
    "    mad.Departamentos,\n",
    "    mad.clae6,\n",
    "    mad.Actividad_conteo,\n",
    "    act.clae6_desc AS Descripcion\n",
    "FROM\n",
    "    Max_Actividad_Dep AS mad\n",
    "JOIN\n",
    "    data_actividades AS act\n",
    "ON\n",
    "    mad.clae6 = act.clae6\n",
    "WHERE\n",
    "     mad.ac = 1\n",
    "ORDER BY\n",
    "    mad.Actividad_conteo DESC                   \n",
    "\"\"\")"
   ]
  },
  {
   "cell_type": "code",
   "execution_count": 77,
   "metadata": {},
   "outputs": [
    {
     "name": "stdout",
     "output_type": "stream",
     "text": [
      "+--------------------+------+----------------+--------------------+\n",
      "|       Departamentos| clae6|Actividad_conteo|         Descripcion|\n",
      "+--------------------+------+----------------+--------------------+\n",
      "|             Capital|475300|              44|Venta al por meno...|\n",
      "|          25 de Mayo|471120|              20|Venta al por meno...|\n",
      "|          9 de Julio|471120|              18|Venta al por meno...|\n",
      "|           Rivadavia|473000|              17|Venta al por meno...|\n",
      "|          San Martín|477310|              17|Venta al por meno...|\n",
      "|          Avellaneda|471130|              12|Venta al por meno...|\n",
      "|           Chacabuco|641930|              12|Servicios de la b...|\n",
      "|               Colón|107121|              12|Elaboración indus...|\n",
      "|      General Alvear|473000|              12|Venta al por meno...|\n",
      "|    General Belgrano|641930|              12|Servicios de la b...|\n",
      "|  General San Martín|477310|              12|Venta al por meno...|\n",
      "|               Junín|829900|              12|Servicios empresa...|\n",
      "|              La Paz|641930|              12|Servicios de la b...|\n",
      "|               Maipú|477310|              12|Venta al por meno...|\n",
      "|          San Javier|649290|              12|Servicios de créd...|\n",
      "|           San Pedro|851020|              12|Enseñanza inicial...|\n",
      "|           Sarmiento|641930|              12|Servicios de la b...|\n",
      "|Libertador Genera...|949990|              11|Servicios de asoc...|\n",
      "|            Belgrano| 14113|              10|Cría de ganado bo...|\n",
      "| Florentino Ameghino|472120|               8|Venta al por meno...|\n",
      "+--------------------+------+----------------+--------------------+\n",
      "only showing top 20 rows\n",
      "\n"
     ]
    }
   ],
   "source": [
    "max_act_dep.show()"
   ]
  },
  {
   "cell_type": "code",
   "execution_count": 78,
   "metadata": {},
   "outputs": [],
   "source": [
    "# LETRA PROMEDIO POR DEPARTAMENTO\n",
    "max_let_dep = spark.sql(\"\"\"\n",
    "WITH Letra_conteo AS (\n",
    "SELECT\n",
    "    d.departamento AS Departamentos,\n",
    "    gen.id_act,\n",
    "    COUNT(gen.id_act) AS Letra_conteo\n",
    "FROM\n",
    "    data_genero AS gen\n",
    "JOIN\n",
    "    data_departamentos AS d\n",
    "ON \n",
    "    gen.in_departamento = d.id_departamento\n",
    "GROUP BY\n",
    "    Departamentos, gen.id_act\n",
    "ORDER BY \n",
    "    Letra_conteo DESC\n",
    "),\n",
    "                    \n",
    "Max_Letra_Dep AS (\n",
    "SELECT\n",
    "    Departamentos,\n",
    "    id_act,\n",
    "    Letra_conteo,\n",
    "    ROW_NUMBER() OVER(PARTITION BY Departamentos ORDER BY Letra_conteo DESC) as lc\n",
    "FROM\n",
    "    Letra_conteo\n",
    ")\n",
    "SELECT\n",
    "    mld.Departamentos,\n",
    "    mld.id_act,\n",
    "    mld.Letra_conteo,\n",
    "    act.letra_desc\n",
    "FROM\n",
    "    Max_Letra_Dep AS mld\n",
    "JOIN\n",
    "    data_actividades AS act\n",
    "ON\n",
    "    mld.id_act = act.id_act\n",
    "WHERE\n",
    "    mld.lc = 1\n",
    "ORDER BY\n",
    "    mld.Letra_conteo DESC\n",
    "    \"\"\")"
   ]
  },
  {
   "cell_type": "code",
   "execution_count": 79,
   "metadata": {},
   "outputs": [
    {
     "name": "stdout",
     "output_type": "stream",
     "text": [
      "+-----------------------------+--------+------------+----------------------------------------------------------------------------------------+\n",
      "|Departamentos                |id_act  |Letra_conteo|letra_desc                                                                              |\n",
      "+-----------------------------+--------+------------+----------------------------------------------------------------------------------------+\n",
      "|Capital                      |S_941200|44          |SERVICIOS DE ASOCIACIONES Y SERVICIOS PERSONALES                                        |\n",
      "|25 de Mayo                   |G_471120|20          |COMERCIO AL POR MAYOR Y AL POR MENOR; REPARACIÓN DE VEHÍCULOS AUTOMOTORES Y MOTOCICLETAS|\n",
      "|9 de Julio                   |G_471120|18          |COMERCIO AL POR MAYOR Y AL POR MENOR; REPARACIÓN DE VEHÍCULOS AUTOMOTORES Y MOTOCICLETAS|\n",
      "|Rivadavia                    |G_473000|17          |COMERCIO AL POR MAYOR Y AL POR MENOR; REPARACIÓN DE VEHÍCULOS AUTOMOTORES Y MOTOCICLETAS|\n",
      "|San Martín                   |G_477310|17          |COMERCIO AL POR MAYOR Y AL POR MENOR; REPARACIÓN DE VEHÍCULOS AUTOMOTORES Y MOTOCICLETAS|\n",
      "|Avellaneda                   |G_475290|12          |COMERCIO AL POR MAYOR Y AL POR MENOR; REPARACIÓN DE VEHÍCULOS AUTOMOTORES Y MOTOCICLETAS|\n",
      "|Chacabuco                    |G_477470|12          |COMERCIO AL POR MAYOR Y AL POR MENOR; REPARACIÓN DE VEHÍCULOS AUTOMOTORES Y MOTOCICLETAS|\n",
      "|Colón                        |G_461040|12          |COMERCIO AL POR MAYOR Y AL POR MENOR; REPARACIÓN DE VEHÍCULOS AUTOMOTORES Y MOTOCICLETAS|\n",
      "|General Alvear               |G_471120|12          |COMERCIO AL POR MAYOR Y AL POR MENOR; REPARACIÓN DE VEHÍCULOS AUTOMOTORES Y MOTOCICLETAS|\n",
      "|General Belgrano             |G_471120|12          |COMERCIO AL POR MAYOR Y AL POR MENOR; REPARACIÓN DE VEHÍCULOS AUTOMOTORES Y MOTOCICLETAS|\n",
      "|General San Martín           |G_477190|12          |COMERCIO AL POR MAYOR Y AL POR MENOR; REPARACIÓN DE VEHÍCULOS AUTOMOTORES Y MOTOCICLETAS|\n",
      "|Junín                        |G_477310|12          |COMERCIO AL POR MAYOR Y AL POR MENOR; REPARACIÓN DE VEHÍCULOS AUTOMOTORES Y MOTOCICLETAS|\n",
      "|La Paz                       |G_472171|12          |COMERCIO AL POR MAYOR Y AL POR MENOR; REPARACIÓN DE VEHÍCULOS AUTOMOTORES Y MOTOCICLETAS|\n",
      "|Maipú                        |G_472130|12          |COMERCIO AL POR MAYOR Y AL POR MENOR; REPARACIÓN DE VEHÍCULOS AUTOMOTORES Y MOTOCICLETAS|\n",
      "|San Javier                   |K_649290|12          |INTERMEDIACIÓN FINANCIERA Y SERVICIOS DE SEGUROS                                        |\n",
      "|San Pedro                    |S_949990|12          |SERVICIOS DE ASOCIACIONES Y SERVICIOS PERSONALES                                        |\n",
      "|Sarmiento                    |K_641930|12          |INTERMEDIACIÓN FINANCIERA Y SERVICIOS DE SEGUROS                                        |\n",
      "|Libertador General San Martín|S_949990|11          |SERVICIOS DE ASOCIACIONES Y SERVICIOS PERSONALES                                        |\n",
      "|Belgrano                     |A_14113 |10          |AGRICULTURA, GANADERÍA, CAZA, SILVICULTURA Y PESCA                                      |\n",
      "|Florentino Ameghino          |G_472120|8           |COMERCIO AL POR MAYOR Y AL POR MENOR; REPARACIÓN DE VEHÍCULOS AUTOMOTORES Y MOTOCICLETAS|\n",
      "+-----------------------------+--------+------------+----------------------------------------------------------------------------------------+\n",
      "only showing top 20 rows\n",
      "\n"
     ]
    }
   ],
   "source": [
    "max_let_dep.show(truncate=False)"
   ]
  },
  {
   "cell_type": "markdown",
   "metadata": {},
   "source": [
    "- A NIVEL SUCURSALES:\n",
    "    - A - CANTIDAD DE EMPLEADOS DE CADA SUCURSAL\n",
    "    - B - DE ESA CANTIDAD PROPORCION DE MUJERES\n",
    "    - C - DISTRIBUCION DE GENERO POR SUCURSALES\n",
    "    - D - ACTIVIDAD Y NIVEL DE EMPLEO DE CADA SCURSAL"
   ]
  },
  {
   "cell_type": "markdown",
   "metadata": {},
   "source": [
    "**SUCURSALES**"
   ]
  },
  {
   "cell_type": "code",
   "execution_count": 80,
   "metadata": {},
   "outputs": [],
   "source": [
    "# NIVEL DE EMPLEO POR SUCURSAL Y PROPORCION DE HOMBRES Y MUJERES\n",
    "max_suc_emp = spark.sql(\"\"\"\n",
    "WITH Nivel_conteo AS (\n",
    "SELECT\n",
    "    dis.cuit AS Sucursales,\n",
    "    dis.Nivel_Empleo,\n",
    "    COUNT(dis.Nivel_Empleo) AS Nivel_conteo,                    \n",
    "    SUM(CASE WHEN dis.Mujeres = 'false' THEN 1 ELSE 0 END) AS Cant_hombres,\n",
    "    SUM(CASE WHEN dis.Mujeres = 'true' THEN 1 ELSE 0 END) AS Cant_mujeres\n",
    "FROM\n",
    "    data_distribucion AS dis\n",
    "GROUP BY\n",
    "    Sucursales, dis.Nivel_Empleo\n",
    "ORDER BY\n",
    "    Nivel_conteo DESC\n",
    "),                  \n",
    "                        \n",
    "Max_Nivel_Suc AS (\n",
    "SELECT\n",
    "    Sucursales,\n",
    "    Nivel_Empleo,\n",
    "    Nivel_conteo,\n",
    "    Cant_hombres,\n",
    "    Cant_mujeres,\n",
    "    ROW_NUMBER() OVER(PARTITION BY Sucursales ORDER BY Nivel_conteo DESC) AS nc\n",
    "FROM \n",
    "    Nivel_conteo\n",
    ")\n",
    "SELECT\n",
    "    mns.Sucursales,\n",
    "    mns.Nivel_Empleo,\n",
    "    mns.Nivel_conteo,\n",
    "    mns.Cant_hombres,\n",
    "    mns.Cant_mujeres\n",
    "FROM\n",
    "    Max_Nivel_Suc AS mns\n",
    "WHERE\n",
    "    mns.nc = 1\n",
    "ORDER BY\n",
    "    mns.Nivel_conteo DESC\n",
    "\"\"\")"
   ]
  },
  {
   "cell_type": "code",
   "execution_count": 81,
   "metadata": {},
   "outputs": [
    {
     "name": "stdout",
     "output_type": "stream",
     "text": [
      "+--------------+------------+------------+------------+------------+\n",
      "|    Sucursales|Nivel_Empleo|Nivel_conteo|Cant_hombres|Cant_mujeres|\n",
      "+--------------+------------+------------+------------+------------+\n",
      "|P6X057488A0772|           a|        2108|        1588|         520|\n",
      "|14A80622Z304P6|           a|        1223|         264|         959|\n",
      "|72X148020A1072|           a|         977|         675|         302|\n",
      "|44A52A14Z30138|           a|         966|         806|         160|\n",
      "|92A78P14WUB0J4|           a|         756|         148|         608|\n",
      "|2JA676016Z0234|           a|         753|         531|         222|\n",
      "|66X7UB04730437|           a|         727|         581|         146|\n",
      "|00A784J62Z0538|           a|         695|         183|         512|\n",
      "|10X1010P0A0Z53|           a|         683|         339|         344|\n",
      "| 35X50840A055Z|           a|         674|         272|         402|\n",
      "|42A12AP58Z0W36|           a|         654|         617|          37|\n",
      "|07A127A50Z0824|           a|         562|         222|         340|\n",
      "|P0X401000Z0J53|           a|         541|         193|         348|\n",
      "|66A04646PA0Z32|           a|         526|         367|         159|\n",
      "|4JA768170Z0140|           a|         455|         431|          24|\n",
      "|W1X484P7JZ0270|           a|         444|         240|         204|\n",
      "|56X0814P1A406W|           a|         442|         270|         172|\n",
      "|44X574126A0Z23|           a|         421|          49|         372|\n",
      "|92A545A7PZ0W65|           a|         404|         320|          84|\n",
      "|P8A8Z607030462|           b|         385|         283|         102|\n",
      "+--------------+------------+------------+------------+------------+\n",
      "only showing top 20 rows\n",
      "\n"
     ]
    }
   ],
   "source": [
    "max_suc_emp.show()"
   ]
  },
  {
   "cell_type": "markdown",
   "metadata": {},
   "source": [
    "***A REVISAR***"
   ]
  },
  {
   "cell_type": "code",
   "execution_count": 82,
   "metadata": {},
   "outputs": [],
   "source": [
    "# ACTIVIDAD MAS REALIZADA POR SUCURSALES\n",
    "max_act_suc = spark.sql(\"\"\"\n",
    "WITH Act_conteo AS (\n",
    "SELECT\n",
    "    dis.cuit AS Sucursales,\n",
    "    dis.clae6,\n",
    "    COUNT(dis.clae6) AS Act_conteo\n",
    "FROM\n",
    "    data_distribucion AS dis\n",
    "GROUP BY\n",
    "    Sucursales, dis.clae6\n",
    "ORDER BY\n",
    "    Act_conteo DESC\n",
    "                        \n",
    "),\n",
    "                        \n",
    "Max_Act_Cont AS (\n",
    "SELECT\n",
    "    Sucursales,\n",
    "    clae6,\n",
    "    Act_conteo,\n",
    "    ROW_NUMBER() OVER(PARTITION BY Sucursales ORDER BY Act_conteo) AS acnt\n",
    "FROM\n",
    "    Act_conteo\n",
    ")\n",
    "        \n",
    "SELECT\n",
    "    mac.Sucursales,\n",
    "    mac.clae6,\n",
    "    mac.Act_conteo,\n",
    "    act.clae6_desc\n",
    "FROM \n",
    "    Max_Act_Cont AS mac\n",
    "JOIN\n",
    "    data_actividades AS act\n",
    "ON\n",
    "    mac.clae6 = act.clae6\n",
    "WHERE\n",
    "    acnt = 1\n",
    "ORDER BY\n",
    "    Act_conteo DESC\n",
    "\"\"\")"
   ]
  },
  {
   "cell_type": "code",
   "execution_count": 83,
   "metadata": {},
   "outputs": [
    {
     "name": "stdout",
     "output_type": "stream",
     "text": [
      "+--------------+------+----------+--------------------+\n",
      "|    Sucursales| clae6|Act_conteo|          clae6_desc|\n",
      "+--------------+------+----------+--------------------+\n",
      "|P6X057488A0772|530010|      2469|Servicio de corre...|\n",
      "|72X148020A1072|780000|      1380|Obtención y dotac...|\n",
      "|44A52A14Z30138|780000|      1315|Obtención y dotac...|\n",
      "|10X1010P0A0Z53|641930|      1258|Servicios de la b...|\n",
      "|14A80622Z304P6|942000|      1246|Servicios de sind...|\n",
      "|66X7UB04730437|471110|      1239|Venta al por meno...|\n",
      "|2JA676016Z0234|829900|       955|Servicios empresa...|\n",
      "|92A545A7PZ0W65|611090|       921|Servicios de tele...|\n",
      "|92A78P14WUB0J4|812010|       837|Servicios de limp...|\n",
      "|00A784J62Z0538|812010|       801|Servicios de limp...|\n",
      "| 35X50840A055Z|641930|       766|Servicios de la b...|\n",
      "|42A12AP58Z0W36|801090|       739|Servicios de segu...|\n",
      "|4JA768170Z0140|491110|       726|Servicio de trans...|\n",
      "|P8A8Z607030462|471110|       712|Venta al por meno...|\n",
      "|07A127A50Z0824|651310|       702|      Obras Sociales|\n",
      "|W1X484P7JZ0270|471120|       689|Venta al por meno...|\n",
      "|66A04646PA0Z32|780000|       647|Obtención y dotac...|\n",
      "|31A51A872Z0872|477320|       619|Venta al por meno...|\n",
      "|P0X401000Z0J53|641930|       615|Servicios de la b...|\n",
      "|44X574126A0Z23|651310|       580|      Obras Sociales|\n",
      "+--------------+------+----------+--------------------+\n",
      "only showing top 20 rows\n",
      "\n"
     ]
    }
   ],
   "source": [
    "max_act_suc.show()"
   ]
  },
  {
   "cell_type": "markdown",
   "metadata": {},
   "source": [
    "## **CONSULTAS ESPECIFICAS**"
   ]
  },
  {
   "cell_type": "markdown",
   "metadata": {},
   "source": [
    "- **Top 5 provincias con más y menos empleados**\n",
    "\n",
    "- **Top 5 provincias con más y menos mujeres**\n",
    "\n",
    "- **Top 5 actividades más desarrolladas en el país**\n",
    "\n",
    "- **Top 10 departamentos con menor cantidad de mujeres**\n",
    "\n",
    "- **Top 15 sucursales con nivel de empleo más alto**\n",
    "\n",
    "- **Actividad más desarrollada por provincia con más mujeres y lo mismo pero para los hombres**"
   ]
  },
  {
   "cell_type": "code",
   "execution_count": 84,
   "metadata": {},
   "outputs": [
    {
     "name": "stdout",
     "output_type": "stream",
     "text": [
      "+------------+---------------+\n",
      "|  Provincias|Total_Empleados|\n",
      "+------------+---------------+\n",
      "|Buenos Aires|        4115444|\n",
      "|        CABA|        3137197|\n",
      "|    Santa Fe|        1064197|\n",
      "|     Cordoba|        1050882|\n",
      "|     Mendoza|         495777|\n",
      "|     Tucuman|         359074|\n",
      "|  Entre Rios|         278325|\n",
      "|     Neuquen|         243015|\n",
      "|       Salta|         235378|\n",
      "|   Rio Negro|         225777|\n",
      "+------------+---------------+\n",
      "\n"
     ]
    }
   ],
   "source": [
    "# TOP PROVINCIAS CON MAS EMPLEADOS\n",
    "prov_max_emp = spark.sql(\"\"\"\n",
    "SELECT\n",
    "    p.provincia AS Provincias,\n",
    "    SUM(gen.Empleo) AS Total_Empleados\n",
    "FROM\n",
    "    data_genero AS gen\n",
    "JOIN \n",
    "    data_provincias AS p\n",
    "ON \n",
    "    gen.provincia_id = p.provincia_id\n",
    "GROUP BY\n",
    "    Provincias\n",
    "ORDER BY\n",
    "    Total_Empleados DESC\n",
    "LIMIT 10\n",
    "\"\"\")\n",
    "\n",
    "prov_max_emp.show()"
   ]
  },
  {
   "cell_type": "code",
   "execution_count": 85,
   "metadata": {},
   "outputs": [
    {
     "name": "stdout",
     "output_type": "stream",
     "text": [
      "+-------------------+---------------+\n",
      "|         Provincias|Total_Empleados|\n",
      "+-------------------+---------------+\n",
      "|            Formosa|          51482|\n",
      "|           La Rioja|          62237|\n",
      "|          Catamarca|          63784|\n",
      "|   Tierra Del Fuego|          72853|\n",
      "|           La Pampa|          78907|\n",
      "|Santiago Del Estero|         107381|\n",
      "|           San Luis|         112037|\n",
      "|         Santa Cruz|         116971|\n",
      "|              Jujuy|         122316|\n",
      "|         Corrientes|         159982|\n",
      "+-------------------+---------------+\n",
      "\n"
     ]
    }
   ],
   "source": [
    "# TOP PROVINCIAS CON MENOS EMPLEADOS\n",
    "prov_max_emp = spark.sql(\"\"\"\n",
    "SELECT\n",
    "    p.provincia AS Provincias,\n",
    "    SUM(gen.Empleo) AS Total_Empleados\n",
    "FROM\n",
    "    data_genero AS gen\n",
    "JOIN \n",
    "    data_provincias AS p\n",
    "ON \n",
    "    gen.provincia_id = p.provincia_id\n",
    "GROUP BY\n",
    "    Provincias\n",
    "ORDER BY\n",
    "    Total_Empleados ASC\n",
    "LIMIT 10\n",
    "\"\"\")\n",
    "\n",
    "prov_max_emp.show()"
   ]
  },
  {
   "cell_type": "code",
   "execution_count": 86,
   "metadata": {},
   "outputs": [
    {
     "name": "stdout",
     "output_type": "stream",
     "text": [
      "+------------+------------+\n",
      "|  Provincias|Cant_Mujeres|\n",
      "+------------+------------+\n",
      "|Buenos Aires|       61469|\n",
      "|        CABA|       16797|\n",
      "|     Cordoba|       12774|\n",
      "|    Santa Fe|       11387|\n",
      "|     Mendoza|        8949|\n",
      "|  Entre Rios|        7122|\n",
      "|  Corrientes|        4909|\n",
      "|     Tucuman|        4817|\n",
      "|    Misiones|        4802|\n",
      "|       Chaco|        4633|\n",
      "+------------+------------+\n",
      "only showing top 10 rows\n",
      "\n"
     ]
    }
   ],
   "source": [
    "# TOP PROVINCIAS CON MAS MUJERES\n",
    "max_m = spark.sql(\"\"\"\n",
    "SELECT\n",
    "    p.provincia AS Provincias,\n",
    "    SUM(CASE WHEN gen.Sexo = 1 THEN 1 ELSE 0 END) AS Cant_Mujeres\n",
    "FROM\n",
    "    data_genero AS gen\n",
    "JOIN\n",
    "    data_provincias AS p\n",
    "ON  \n",
    "    gen.provincia_id = p.provincia_id\n",
    "GROUP BY\n",
    "    Provincias\n",
    "ORDER BY\n",
    "    Cant_Mujeres DESC\n",
    "\"\"\")\n",
    "\n",
    "max_m.show(10)"
   ]
  },
  {
   "cell_type": "code",
   "execution_count": 87,
   "metadata": {},
   "outputs": [
    {
     "name": "stdout",
     "output_type": "stream",
     "text": [
      "+----------------+------------+\n",
      "|      Provincias|Cant_Mujeres|\n",
      "+----------------+------------+\n",
      "|Tierra Del Fuego|        1254|\n",
      "|         Formosa|        1567|\n",
      "|        La Rioja|        1622|\n",
      "|      Santa Cruz|        2014|\n",
      "|       Catamarca|        2071|\n",
      "|        San Luis|        2572|\n",
      "|           Jujuy|        2648|\n",
      "|         Neuquen|        3300|\n",
      "|          Chubut|        3419|\n",
      "|        La Pampa|        3467|\n",
      "+----------------+------------+\n",
      "only showing top 10 rows\n",
      "\n"
     ]
    }
   ],
   "source": [
    "# TOP PROVINCIAS CON MENOS MUJERES\n",
    "min_m = spark.sql(\"\"\"\n",
    "SELECT\n",
    "    p.provincia AS Provincias,\n",
    "    SUM(CASE WHEN gen.Sexo = 1 THEN 1 ELSE 0 END) AS Cant_Mujeres\n",
    "FROM\n",
    "    data_genero AS gen\n",
    "JOIN\n",
    "    data_provincias AS p\n",
    "ON  \n",
    "    gen.provincia_id = p.provincia_id\n",
    "GROUP BY\n",
    "    Provincias\n",
    "ORDER BY\n",
    "    Cant_Mujeres ASC\n",
    "\"\"\")\n",
    "\n",
    "min_m.show(10)"
   ]
  },
  {
   "cell_type": "code",
   "execution_count": 88,
   "metadata": {},
   "outputs": [
    {
     "name": "stdout",
     "output_type": "stream",
     "text": [
      "+------+----------+--------------------------------------------------------------------------------------------------------------------------------------------------------------------------------+\n",
      "|clae6 |Act_conteo|clae6_desc                                                                                                                                                                      |\n",
      "+------+----------+--------------------------------------------------------------------------------------------------------------------------------------------------------------------------------+\n",
      "|473000|1819      |Venta al por menor de combustible para vehículos automotores y motocicletas (Incluye la venta al por menor de productos lubricantes y refrigerantes)                            |\n",
      "|477310|1725      |Venta al por menor de productos farmacéuticos y de herboristería                                                                                                                |\n",
      "|471130|1688      |Venta al por menor en minimercados (Incluye mercaditos, autoservicios y establecimientos similares que vendan carnes, verduras y demás productos alimenticios en forma conjunta)|\n",
      "|471120|1654      |Venta al por menor en supermercados                                                                                                                                             |\n",
      "|641930|1609      |Servicios de la banca minorista                                                                                                                                                 |\n",
      "|14113 |1595      |Cría de ganado bovino, excepto la realizada en cabañas y para la producción de leche (Incluye: ganado bubalino)                                                                 |\n",
      "|949990|1582      |Servicios de asociaciones n.c.p.                                                                                                                                                |\n",
      "|475290|1540      |Venta al por menor de materiales de construcción n.c.p.                                                                                                                         |\n",
      "|812010|1496      |Servicios de limpieza general de edificios                                                                                                                                      |\n",
      "|475230|1449      |Venta al por menor de artículos de ferretería y materiales eléctricos                                                                                                           |\n",
      "+------+----------+--------------------------------------------------------------------------------------------------------------------------------------------------------------------------------+\n",
      "only showing top 10 rows\n",
      "\n"
     ]
    }
   ],
   "source": [
    "# TOP 10 ACTIVIDADES MAS DESARROLLADAS EN EL PAIS\n",
    "max_act = spark.sql(\"\"\"\n",
    "WITH Act_conteo AS (\n",
    "    SELECT\n",
    "        gen.clae6,\n",
    "        COUNT(gen.clae6) AS Act_conteo\n",
    "FROM\n",
    "    data_genero AS gen\n",
    "GROUP BY\n",
    "    gen.clae6\n",
    "ORDER BY\n",
    "    Act_conteo DESC\n",
    "),\n",
    "\n",
    "Max_Act AS (\n",
    "    SELECT\n",
    "        clae6,\n",
    "        Act_conteo,\n",
    "        ROW_NUMBER() OVER(PARTITION BY clae6 ORDER BY Act_conteo DESC) AS ma\n",
    "FROM\n",
    "    Act_conteo\n",
    ")\n",
    "                    \n",
    "SELECT\n",
    "    mact.clae6,\n",
    "    mact.Act_conteo,\n",
    "    act.clae6_desc\n",
    "FROM\n",
    "    Max_Act AS mact\n",
    "JOIN\n",
    "    data_actividades AS act\n",
    "ON\n",
    "    mact.clae6 = act.clae6\n",
    "WHERE\n",
    "    ma = 1\n",
    "ORDER BY\n",
    "    Act_conteo DESC\"\"\")\n",
    "\n",
    "max_act.show(10, truncate=False)"
   ]
  },
  {
   "cell_type": "code",
   "execution_count": 89,
   "metadata": {},
   "outputs": [
    {
     "name": "stdout",
     "output_type": "stream",
     "text": [
      "+--------------------+------------+------------+------------------+\n",
      "|       Departamentos|Cant_hombres|Cant_mujeres|Proporcion_mujeres|\n",
      "+--------------------+------------+------------+------------------+\n",
      "|General Juan Facu...|           2|           0|               0.0|\n",
      "|               Ullum|          10|           0|               0.0|\n",
      "|         Ramón Lista|           2|           0|               0.0|\n",
      "|      Santa Victoria|           7|           0|               0.0|\n",
      "|Ángel Vicente Peñ...|           2|           0|               0.0|\n",
      "|    General Lamadrid|          11|           1|              8.33|\n",
      "|        Valle Grande|          15|           2|             11.76|\n",
      "|               Mitre|           7|           1|              12.5|\n",
      "|  Juan Felipe Ibarra|          63|          10|              13.7|\n",
      "|          Sobremonte|          37|           6|             13.95|\n",
      "+--------------------+------------+------------+------------------+\n",
      "only showing top 10 rows\n",
      "\n"
     ]
    }
   ],
   "source": [
    "# TOP 10 DEPARTAMENTOS CON MENOR CANTIDAD DE MUJERES\n",
    "dep_prop_mujeres = spark.sql(\"\"\"\n",
    "SELECT\n",
    "    d.departamento AS Departamentos,\n",
    "    SUM(CASE WHEN gen.Sexo = 1 THEN 1 ELSE 0 END) AS Cant_hombres,\n",
    "    SUM(CASE WHEN gen.Sexo = 0 THEN 1 ELSE 0 END) AS Cant_mujeres,\n",
    "    ROUND((Cant_mujeres / (Cant_hombres + Cant_mujeres)) * 100, 2) AS Proporcion_mujeres\n",
    "FROM\n",
    "    data_genero AS gen\n",
    "JOIN\n",
    "    data_departamentos AS d\n",
    "ON\n",
    "    gen.in_departamento = d.id_departamento\n",
    "GROUP BY\n",
    "    Departamentos\n",
    "ORDER BY \n",
    "    Proporcion_mujeres ASC\"\"\")\n",
    "\n",
    "dep_prop_mujeres.show(10)"
   ]
  },
  {
   "cell_type": "code",
   "execution_count": 90,
   "metadata": {},
   "outputs": [],
   "source": [
    "# TOP 15 SUCURSALES CON NIVEL DE EMPLEO MAS ALTO\n",
    "suc_max_nivel_emp = spark.sql(\"\"\"\n",
    "WITH Nivel_conteo AS (\n",
    "    SELECT\n",
    "        dis.cuit AS Sucursales,\n",
    "        dis.Nivel_Empleo,\n",
    "        COUNT(dis.Nivel_Empleo) AS Nivel_conteo\n",
    "    FROM\n",
    "        data_distribucion AS dis\n",
    "    GROUP BY\n",
    "        Sucursales, Nivel_Empleo\n",
    "    ORDER BY\n",
    "        Nivel_conteo DESC\n",
    "),\n",
    "                              \n",
    "Max_Nivel_Cont AS (\n",
    "    SELECT\n",
    "        Sucursales,\n",
    "        Nivel_Empleo,\n",
    "        Nivel_conteo,\n",
    "        ROW_NUMBER() OVER(PARTITION BY Sucursales ORDER BY Nivel_conteo DESC) AS nc\n",
    "    FROM\n",
    "        Nivel_conteo                    \n",
    ")                            \n",
    "SELECT\n",
    "    mnc.Sucursales,\n",
    "    mnc.Nivel_Empleo,\n",
    "    mnc.Nivel_Conteo\n",
    "FROM\n",
    "    Max_Nivel_Cont AS mnc\n",
    "WHERE\n",
    "    nc = 1 AND mnc.Nivel_Empleo = \"e\"\n",
    "ORDER BY\n",
    "    mnc.Nivel_conteo DESC\"\"\")"
   ]
  },
  {
   "cell_type": "code",
   "execution_count": 91,
   "metadata": {},
   "outputs": [
    {
     "name": "stdout",
     "output_type": "stream",
     "text": [
      "+--------------+------------+------------+\n",
      "|    Sucursales|Nivel_Empleo|Nivel_Conteo|\n",
      "+--------------+------------+------------+\n",
      "|07X60867PZ0W40|           e|           8|\n",
      "|50A50A744Z4074|           e|           7|\n",
      "|02A26480AZ0531|           e|           6|\n",
      "|25XA84PZW30739|           e|           6|\n",
      "|68X60JPW0Z3937|           e|           6|\n",
      "|97X404PW8Z0972|           e|           6|\n",
      "|52A5P8466A0554|           e|           4|\n",
      "|24X77PJZ830540|           e|           4|\n",
      "|77X0P7780A0W52|           e|           4|\n",
      "|21X2A4125Z0321|           e|           4|\n",
      "|81A76Z6J03003P|           e|           4|\n",
      "|54A0815P0A0858|           e|           4|\n",
      "|P2AAZ257430573|           e|           4|\n",
      "|24A841661Z0640|           e|           4|\n",
      "|77X001884A0652|           e|           4|\n",
      "+--------------+------------+------------+\n",
      "only showing top 15 rows\n",
      "\n"
     ]
    }
   ],
   "source": [
    "suc_max_nivel_emp.show(15)"
   ]
  },
  {
   "cell_type": "code",
   "execution_count": 92,
   "metadata": {},
   "outputs": [],
   "source": [
    "# ACTIVIDAD MAS DESARROLLADA POR PROVINCIA CON MAS PUESTOS DE TRABAJO PARA MUJERES.\n",
    "act_prov_m = spark.sql(\"\"\"\n",
    "WITH Actividad_mujeres AS (\n",
    "    SELECT\n",
    "        p.provincia AS Provincias,\n",
    "        act.clae6_desc AS Actividad,\n",
    "        SUM(gen.Empleo) AS Cant_Puestos_Mujeres\n",
    "        FROM\n",
    "            data_genero AS gen\n",
    "        JOIN\n",
    "            data_actividades AS act\n",
    "        ON\n",
    "            gen.clae6 = act.clae6\n",
    "        JOIN\n",
    "            data_provincias AS p\n",
    "        ON\n",
    "            gen.provincia_id = p.provincia_id\n",
    "\n",
    "        WHERE\n",
    "            gen.Genero = 'Mujeres'\n",
    "                            \n",
    "        GROUP BY \n",
    "                Provincias, Actividad\n",
    "                            \n",
    "        ORDER BY\n",
    "                Cant_Puestos_Mujeres DESC\n",
    "),\n",
    "            \n",
    "ranking_actividades AS (\n",
    "    SELECT\n",
    "        Provincias,\n",
    "        Actividad,\n",
    "        Cant_Puestos_Mujeres,\n",
    "        RANK() OVER (PARTITION BY Provincias ORDER BY Cant_Puestos_Mujeres DESC) AS rank\n",
    "    FROM\n",
    "        Actividad_mujeres\n",
    ")\n",
    "                       \n",
    "SELECT\n",
    "    ra.Provincias, \n",
    "    ra.Actividad,\n",
    "    ra.Cant_Puestos_Mujeres\n",
    "FROM\n",
    "    ranking_actividades AS ra\n",
    "WHERE\n",
    "    rank = 1\n",
    "ORDER BY \n",
    "        ra.Cant_Puestos_Mujeres DESC\"\"\")"
   ]
  },
  {
   "cell_type": "code",
   "execution_count": 93,
   "metadata": {},
   "outputs": [
    {
     "name": "stdout",
     "output_type": "stream",
     "text": [
      "+-------------------+----------------------------------------------------------------------------------------------------------------------------+--------------------+\n",
      "|Provincias         |Actividad                                                                                                                   |Cant_Puestos_Mujeres|\n",
      "+-------------------+----------------------------------------------------------------------------------------------------------------------------+--------------------+\n",
      "|Buenos Aires       |Enseñanza inicial, jardín de infantes y primaria                                                                            |221150              |\n",
      "|CABA               |Enseñanza inicial, jardín de infantes y primaria                                                                            |60089               |\n",
      "|Cordoba            |Enseñanza inicial, jardín de infantes y primaria                                                                            |32536               |\n",
      "|Santa Fe           |Enseñanza inicial, jardín de infantes y primaria                                                                            |30749               |\n",
      "|Mendoza            |Enseñanza inicial, jardín de infantes y primaria                                                                            |15798               |\n",
      "|Chaco              |Servicios de call center                                                                                                    |11588               |\n",
      "|Tucuman            |Enseñanza inicial, jardín de infantes y primaria                                                                            |10750               |\n",
      "|Entre Rios         |Enseñanza inicial, jardín de infantes y primaria                                                                            |10560               |\n",
      "|Misiones           |Enseñanza inicial, jardín de infantes y primaria                                                                            |7255                |\n",
      "|Salta              |Enseñanza inicial, jardín de infantes y primaria                                                                            |7247                |\n",
      "|Santiago Del Estero|Enseñanza inicial, jardín de infantes y primaria                                                                            |5379                |\n",
      "|San Luis           |Enseñanza inicial, jardín de infantes y primaria                                                                            |5334                |\n",
      "|Rio Negro          |Enseñanza inicial, jardín de infantes y primaria                                                                            |5134                |\n",
      "|San Juan           |Enseñanza inicial, jardín de infantes y primaria                                                                            |4445                |\n",
      "|Neuquen            |Enseñanza inicial, jardín de infantes y primaria                                                                            |4427                |\n",
      "|Catamarca          |Enseñanza inicial, jardín de infantes y primaria                                                                            |4098                |\n",
      "|Chubut             |Elaboración de pescados de mar, crustáceos y  productos marinos                                                             |3965                |\n",
      "|Tierra Del Fuego   |Fabricación de receptores de radio y televisión, aparatos de grabación y reproducción de sonido y video, y productos conexos|3688                |\n",
      "|Jujuy              |Enseñanza inicial, jardín de infantes y primaria                                                                            |3022                |\n",
      "|Corrientes         |Enseñanza secundaria de formación general                                                                                   |1854                |\n",
      "+-------------------+----------------------------------------------------------------------------------------------------------------------------+--------------------+\n",
      "only showing top 20 rows\n",
      "\n"
     ]
    }
   ],
   "source": [
    "act_prov_m.show(truncate=False)"
   ]
  },
  {
   "cell_type": "code",
   "execution_count": 94,
   "metadata": {},
   "outputs": [],
   "source": [
    "# ACTIVIDAD MAS DESARROLLADA POR PROVINCIA CON MAS PUESTOS DE TRABAJO PARA HOMBRES.\n",
    "act_prov_h = spark.sql(\"\"\"\n",
    "WITH Actividad_hombres AS (\n",
    "    SELECT\n",
    "        p.provincia AS Provincia,\n",
    "        act.clae6_desc AS Actividad,\n",
    "        SUM(gen.Empleo) AS Cant_Puestos_Hombres\n",
    "    FROM\n",
    "        data_genero AS gen\n",
    "    JOIN\n",
    "        data_actividades AS act\n",
    "    ON\n",
    "        gen.clae6 = act.clae6\n",
    "    JOIN\n",
    "        data_provincias AS p\n",
    "    ON\n",
    "        gen.provincia_id = p.provincia_id\n",
    "    WHERE\n",
    "        gen.Genero = 'Varones'\n",
    "    GROUP BY\n",
    "            Provincia, Actividad\n",
    "),\n",
    "    \n",
    "ranking_actividades AS (\n",
    "    SELECT\n",
    "        Provincia,\n",
    "        Actividad,\n",
    "        Cant_Puestos_Hombres,\n",
    "        RANK() OVER(PARTITION BY Provincia ORDER BY Cant_Puestos_Hombres DESC) AS rank\n",
    "    FROM\n",
    "        Actividad_hombres\n",
    ")\n",
    "SELECT\n",
    "    ra.Provincia,\n",
    "    ra.Actividad,\n",
    "    ra.Cant_Puestos_Hombres\n",
    "FROM \n",
    "    ranking_actividades AS ra\n",
    "                       \n",
    "WHERE rank = 1\n",
    "                       \n",
    "ORDER BY\n",
    "        ra.Cant_Puestos_Hombres DESC\"\"\")"
   ]
  },
  {
   "cell_type": "code",
   "execution_count": 95,
   "metadata": {},
   "outputs": [
    {
     "name": "stdout",
     "output_type": "stream",
     "text": [
      "+-------------------+-----------------------------------------------------------------------------------------------------------------------------------------------------------------------------------------------------------------------------------------------------------------------------------------------------------------------+--------------------+\n",
      "|Provincia          |Actividad                                                                                                                                                                                                                                                                                                              |Cant_Puestos_Hombres|\n",
      "+-------------------+-----------------------------------------------------------------------------------------------------------------------------------------------------------------------------------------------------------------------------------------------------------------------------------------------------------------------+--------------------+\n",
      "|Buenos Aires       |Servicios de seguridad e investigación n.c.p.                                                                                                                                                                                                                                                                          |79645               |\n",
      "|CABA               |Servicios de seguridad e investigación n.c.p.                                                                                                                                                                                                                                                                          |78952               |\n",
      "|Tucuman            |Servicios de contratistas de mano de obra agrícola (Incluye la poda de árboles, transplante, cosecha manual de citrus, algodón, etc.)                                                                                                                                                                                  |44270               |\n",
      "|Neuquen            |Servicios de apoyo para la extracción de petróleo y gas natural                                                                                                                                                                                                                                                        |32764               |\n",
      "|Rio Negro          |Cultivo de manzana y pera                                                                                                                                                                                                                                                                                              |26220               |\n",
      "|Mendoza            |Elaboración de vinos (Incluye el fraccionamiento)                                                                                                                                                                                                                                                                      |24038               |\n",
      "|Santa Fe           |Construcción, reforma y reparación de edificios residenciales (Incluye la construcción, reforma y reparación  de viviendas unifamiliares y multifamiliares, bungaloes, cabañas, casas de campo, departamentos, albergues para ancianos, niños, estudiantes, etc.)                                                      |23230               |\n",
      "|Chubut             |Servicios de apoyo para la extracción de petróleo y gas natural                                                                                                                                                                                                                                                        |20697               |\n",
      "|Cordoba            |Construcción, reforma y reparación de edificios residenciales (Incluye la construcción, reforma y reparación  de viviendas unifamiliares y multifamiliares, bungaloes, cabañas, casas de campo, departamentos, albergues para ancianos, niños, estudiantes, etc.)                                                      |18366               |\n",
      "|Entre Rios         |Producción y procesamiento de carne de aves                                                                                                                                                                                                                                                                            |17233               |\n",
      "|Jujuy              |Elaboración de azúcar                                                                                                                                                                                                                                                                                                  |13137               |\n",
      "|Santa Cruz         |Servicios de apoyo para la extracción de petróleo y gas natural                                                                                                                                                                                                                                                        |10338               |\n",
      "|Misiones           |Elaboración de yerba mate                                                                                                                                                                                                                                                                                              |10209               |\n",
      "|Salta              |Cultivo de tabaco                                                                                                                                                                                                                                                                                                      |9868                |\n",
      "|San Juan           |Construcción, reforma y reparación de edificios residenciales (Incluye la construcción, reforma y reparación  de viviendas unifamiliares y multifamiliares, bungaloes, cabañas, casas de campo, departamentos, albergues para ancianos, niños, estudiantes, etc.)                                                      |9480                |\n",
      "|Corrientes         |Cría de ganado bovino, excepto la realizada en cabañas y para la producción de leche (Incluye: ganado bubalino)                                                                                                                                                                                                        |9093                |\n",
      "|Tierra Del Fuego   |Fabricación de receptores de radio y televisión, aparatos de grabación y reproducción de sonido y video, y productos conexos                                                                                                                                                                                           |7454                |\n",
      "|Chaco              |Servicios de call center                                                                                                                                                                                                                                                                                               |6632                |\n",
      "|Formosa            |Construcción, reforma y reparación de edificios no residenciales (Incluye construcción, reforma y reparación de restaurantes, bares, campamentos, bancos, oficinas, galerías comerciales, estaciones de servicio, edificios para tráfico y comunicaciones, garajes, edificios industriales y depósitos, escuelas, etc.)|5097                |\n",
      "|La Pampa           |Cría de ganado bovino, excepto la realizada en cabañas y para la producción de leche (Incluye: ganado bubalino)                                                                                                                                                                                                        |3904                |\n",
      "|Santiago Del Estero|Construcción, reforma y reparación de edificios no residenciales (Incluye construcción, reforma y reparación de restaurantes, bares, campamentos, bancos, oficinas, galerías comerciales, estaciones de servicio, edificios para tráfico y comunicaciones, garajes, edificios industriales y depósitos, escuelas, etc.)|3866                |\n",
      "|La Rioja           |Cultivo de oleaginosas n.c.p. excepto soja y girasol (Incluye los cultivos de oleaginosas para aceites comestibles y/o uso industrial: cártamo, colza, jojoba, lino oleaginoso, maní, ricino, sésamo, tung, etc.)                                                                                                      |3649                |\n",
      "|Catamarca          |Construcción de obras de ingeniería civil n.c.p. (Incluye los trabajos generales de construcción para la minería y la industria,  de centrales eléctricas y nucleares, excavaciones de sepulturas, etc.)                                                                                                               |3067                |\n",
      "|San Luis           |Obtención y dotación de personal (Incluye las actividades vinculadas con la búsqueda, selección y colocación de personal, la actividad de casting de actores, etc.)                                                                                                                                                    |2635                |\n",
      "+-------------------+-----------------------------------------------------------------------------------------------------------------------------------------------------------------------------------------------------------------------------------------------------------------------------------------------------------------------+--------------------+\n",
      "\n"
     ]
    }
   ],
   "source": [
    "act_prov_h.show(24, truncate=False)"
   ]
  },
  {
   "cell_type": "markdown",
   "metadata": {},
   "source": [
    "## **TAMBIEN ES POSIBLE CONVERTIR EL OBJETO SPARK DATAFRAME A PANDAS DATAFRAME PARA FAMILIARIZAR MAS FACIL CON LAS LIBRERIAS DE OBJETOS VISUALES.**"
   ]
  },
  {
   "cell_type": "markdown",
   "metadata": {},
   "source": [
    "***DEBEMOS TENER EN CUENTA QUE SI EL VOLUMEN DE DATOS ES MUY GRANDE, ESTA TRANSFORMACION TIENDE A SER LENTA***"
   ]
  },
  {
   "cell_type": "code",
   "execution_count": 96,
   "metadata": {},
   "outputs": [],
   "source": [
    "def spark_to_pandas(data_genero_df, data_distribucion_df, data_dep_df, data_prov_df, data_sal_med_df):\n",
    "    genero_pandas = data_genero_df.toPandas()\n",
    "    distribucion_pandas = data_distribucion_df.toPandas()\n",
    "    departamentos_pandas = data_dep_df.toPandas()\n",
    "    provincias_pandas = data_prov_df.toPandas()\n",
    "    salarios_pandas = data_sal_med_df.toPandas()\n",
    "\n",
    "    genero_pandas.to_csv('df_genero.csv')\n",
    "    distribucion_pandas.to_csv('df_distribucion.csv')\n",
    "    departamentos_pandas.to_csv('df_departamentos.csv')\n",
    "    provincias_pandas.to_csv('df_provincias.csv')\n",
    "    salarios_pandas.to_csv('df_salarios.csv')\n",
    "\n",
    "    if genero_pandas and distribucion_pandas and departamentos_pandas and provincias_pandas and salarios_pandas:\n",
    "        return True\n",
    "    else:\n",
    "        return False\n",
    "\n",
    "#spark_to_pandas(data_genero_df, data_distribucion_df, data_dep_df, data_prov_df, data_sal_med_df)"
   ]
  },
  {
   "cell_type": "markdown",
   "metadata": {},
   "source": [
    "## **SE PREPARA LA ESTRUCTURA EN UN ENTORNO DE PRUEBAS ANTES DE COMENZAR CON LA EJECUCION DEL PROGRAMA REAL**"
   ]
  },
  {
   "cell_type": "markdown",
   "metadata": {},
   "source": [
    "**TRANSFORMACION DE DATOS**"
   ]
  },
  {
   "cell_type": "code",
   "execution_count": 97,
   "metadata": {},
   "outputs": [],
   "source": [
    "class TransformData:\n",
    "    def __init__(self):\n",
    "        self.ruta_dist = \"distribucion_establecimientos_productivos_sexo (1).csv\"\n",
    "        self.ruta_gen = \"Datos_por_departamento_actividad_y_sexo.csv\"\n",
    "        self.ruta_act = \"actividades_establecimientos.csv\"\n",
    "        self.ruta_salario = \"salario_medio_clae6.csv\"\n",
    "\n",
    "    def transform_data_dist(self):\n",
    "        data_distribucion_schema = StructType([\n",
    "        StructField(\"cuit\", StringType(), True),\n",
    "        StructField(\"sucursal\", IntegerType(), True),\n",
    "        StructField(\"anio\", DateType(), True),\n",
    "        StructField(\"lat\", DecimalType(), True),\n",
    "        StructField(\"lon\", DecimalType(), True),\n",
    "        StructField(\"clae6\", IntegerType(), True),\n",
    "        StructField(\"in_departamento\", IntegerType(), True),\n",
    "        StructField(\"provincia_id\", IntegerType(), True),\n",
    "        StructField(\"quintil\", IntegerType(), True),\n",
    "        StructField(\"empleo\", StringType(), True),\n",
    "        StructField(\"proporcion_mujeres\", DecimalType(), True)\n",
    "        ])\n",
    "\n",
    "        data_distribucion_df = spark.read.schema(data_distribucion_schema).format(\"csv\").option(\"header\",\"true\").load(self.ruta_dist)\n",
    "\n",
    "        data_distribucion_df = data_distribucion_df.withColumn('Año', year(col('anio')))\n",
    "        data_distribucion_df = data_distribucion_df.withColumn('Mes', month(col('anio')))\n",
    "\n",
    "        data_distribucion_df = data_distribucion_df.withColumn(\n",
    "            'Min_empleados',\n",
    "            regexp_extract(col('empleo'),r'(\\d+)', 1)\n",
    "        )\n",
    "\n",
    "        data_distribucion_df = data_distribucion_df.withColumn(\n",
    "            'Max_empleados',\n",
    "            regexp_extract(col('empleo'), r'(\\d+)-(\\d+)', 2)\n",
    "        )\n",
    "\n",
    "        data_distribucion_df = data_distribucion_df.withColumn(\n",
    "            'Mujeres',\n",
    "            when((col('proporcion_mujeres') == 0), False)\n",
    "            .otherwise(True)\n",
    "        )\n",
    "\n",
    "        data_distribucion_df = data_distribucion_df.withColumn(\n",
    "            'Nivel_Empleo',\n",
    "            regexp_extract(col('empleo'),r'[a-zA-Z0-9]', 0)\n",
    "        )\n",
    "        \n",
    "        data_distribucion_df = data_distribucion_df.withColumn('Año', year(col('anio')))\n",
    "        return data_distribucion_df\n",
    "    \n",
    "    def transform_data_gen(self):\n",
    "        data_genero_schema = StructType([\n",
    "        StructField(\"anio\", DateType(), True),\n",
    "        StructField(\"in_departamento\", IntegerType(), True),\n",
    "        StructField('departamento', StringType(), True),\n",
    "        StructField(\"provincia_id\", IntegerType(), True),\n",
    "        StructField(\"provincia\", StringType(), True),\n",
    "        StructField(\"clae6\", IntegerType(), True),\n",
    "        StructField(\"clae2\", IntegerType(), True),\n",
    "        StructField(\"letra\", StringType(), True),\n",
    "        StructField('genero', StringType(), True),\n",
    "        StructField('Empleo', IntegerType(), True),\n",
    "        StructField('Establecimientos', IntegerType(), True),\n",
    "        StructField('empresas_exportadoras', IntegerType(), True),\n",
    "        ])\n",
    "\n",
    "        data_genero_df = spark.read.schema(data_genero_schema).format(\"csv\").option(\"header\",\"true\").load(self.ruta_gen)\n",
    "\n",
    "        data_genero_df = data_genero_df.withColumn(\n",
    "            'Sexo',\n",
    "            when((col('genero') == 'Varones'), 1)\n",
    "            .otherwise(0)\n",
    "        )\n",
    "\n",
    "        data_genero_df = data_genero_df.withColumn(\n",
    "            'id_act',\n",
    "            concat(col('letra'), lit('_'), col('clae6'))\n",
    "        )\n",
    "\n",
    "        data_genero_df = data_genero_df.withColumn('Año', year(col('anio')))\n",
    "        data_genero_df = data_genero_df.withColumn('Mes', month(col('anio')))\n",
    "\n",
    "        return data_genero_df\n",
    "    \n",
    "\n",
    "    def transform_data_act(self):\n",
    "        data_actividades_schema = StructType([\n",
    "            StructField(\"clae6\", IntegerType(), True),\n",
    "            StructField(\"clae2\", IntegerType(), True),\n",
    "            StructField('letra', StringType(), True),\n",
    "            StructField(\"clae6_desc\", StringType(), True),\n",
    "            StructField(\"clae2_desc\", StringType(), True),\n",
    "            StructField(\"letra_desc\", StringType(), True),\n",
    "        ])\n",
    "\n",
    "        data_actividades_df = spark.read.schema(data_actividades_schema).format(\"csv\").option(\"header\",\"true\").load(self.ruta_act)\n",
    "\n",
    "        data_actividades_df = data_actividades_df.withColumn(\n",
    "            'id_act',\n",
    "            concat(col('letra'), lit('_'), col('clae6'))\n",
    "        )\n",
    "\n",
    "        return data_actividades_df\n",
    "    \n",
    "    def transform_data_salario(self):\n",
    "        data_sal_med_schema = StructType([\n",
    "            StructField(\"fecha\", DateType(), True),\n",
    "            StructField(\"clae6\", IntegerType(), True),\n",
    "            StructField('w_mean', IntegerType(), True),\n",
    "        ])\n",
    "\n",
    "        data_sal_med_df = spark.read.schema(data_sal_med_schema).format(\"csv\").option(\"header\",\"true\").load(self.ruta_salario)\n",
    "\n",
    "        data_sal_med_df = data_sal_med_df.withColumn('Año', year(col('fecha')))\n",
    "        data_sal_med_df = data_sal_med_df.withColumn('Mes', month(col('fecha')))\n",
    "        data_sal_med_df = data_sal_med_df.filter((col('Año') >= 2021) & (col('Año') <= 2022))\n",
    "        data_sal_med_df = data_sal_med_df.groupBy(['clae6', 'Año']).agg(round(mean('w_mean'),2).alias('w_mean')).orderBy(asc('Año'))\n",
    "\n",
    "        return data_sal_med_df\n",
    "\n",
    "    def transform_data_dep_prov(self, data_genero_df):\n",
    "        # DATA DEPARTAMENTO\n",
    "        data_dep_id = data_genero_df.select('in_departamento', 'departamento').distinct().collect()\n",
    "        schema = StructType([\n",
    "        StructField('in_departamento', IntegerType(), True),\n",
    "        StructField('departamento', StringType(), True),\n",
    "        ])\n",
    "\n",
    "        data_dep_df = spark.createDataFrame(data_dep_id, schema)\n",
    "\n",
    "        # DATA PROVINCIAS\n",
    "        data_prov = data_genero_df.select('provincia_id', 'provincia').distinct().collect()\n",
    "        schema = StructType([\n",
    "        StructField('provincia_id', IntegerType(), True),\n",
    "        StructField('provincia', StringType(), True),\n",
    "        ])\n",
    "\n",
    "        data_prov_df = spark.createDataFrame(data_prov, schema)\n",
    "\n",
    "        # RETORNO DATA GENERO NORMALIZADO\n",
    "        data_genero_df = data_genero_df.drop(*['departamento', 'provincia'])\n",
    "\n",
    "        return data_dep_df, data_prov_df, data_genero_df"
   ]
  },
  {
   "cell_type": "code",
   "execution_count": 125,
   "metadata": {},
   "outputs": [],
   "source": [
    "clase_transform = TransformData()\n",
    "data_genero_df = clase_transform.transform_data_gen()\n",
    "data_actividades_df = clase_transform.transform_data_act()\n",
    "data_dep_df, data_prov_df, data_genero_df = clase_transform.transform_data_dep_prov(data_genero_df)\n",
    "data_sal_med_df = clase_transform.transform_data_salario()"
   ]
  },
  {
   "cell_type": "markdown",
   "metadata": {},
   "source": [
    "**CREACION DE TABLAS**"
   ]
  },
  {
   "cell_type": "code",
   "execution_count": 98,
   "metadata": {},
   "outputs": [],
   "source": [
    "from pyspark.sql.window import Window\n",
    "from pyspark.sql.functions import row_number\n",
    "\n",
    "class CreateTablesDW:\n",
    "    def __init__(self, data_genero_df, data_actividades_df, data_dep_df, data_prov_df, data_sal_med_df):\n",
    "        self.data_genero_df = data_genero_df\n",
    "        self.data_actividades_df = data_actividades_df\n",
    "        self.data_dep_df = data_dep_df\n",
    "        self.data_prov_df = data_prov_df\n",
    "        self.data_sal_med_df = data_sal_med_df\n",
    "\n",
    "    def create_fact_table(self):\n",
    "        table_fact = self.data_genero_df.select(['provincia_id', 'in_departamento','clae6','genero','Empleo','Establecimientos','empresas_exportadoras','Año'])\n",
    "        table_fact = table_fact.withColumnsRenamed({'provincia_id':'Provincia_ID', 'in_departamento':'Departamento_ID',\n",
    "                                   'clae6':'ID_Clae6', 'genero':'Genero', 'empresas_exportadoras':'Empresas_Exportadoras', 'Año':'Fecha'})\n",
    "        window_spec = Window.orderBy(\"Fecha\")\n",
    "        table_fact = table_fact.withColumn('ID_Gen', row_number().over(window_spec))\n",
    "        table_fact = table_fact.select(['ID_Gen','Provincia_ID', 'Departamento_ID', 'ID_Clae6', 'Genero', 'Empleo', 'Establecimientos', 'Empresas_Exportadoras', 'Fecha'])\n",
    "        return table_fact\n",
    "    \n",
    "    def create_dim_salario(self, dim_act):\n",
    "        dim_salario = self.data_sal_med_df.select(['Año', 'clae6','w_mean'])\n",
    "        # Definir una ventana de partición si es necesario\n",
    "        window_spec = Window.orderBy(\"Año\")\n",
    "        dim_salario = dim_salario.withColumn('ID_Sal', row_number().over(window_spec))\n",
    "        dim_salario = dim_salario.withColumn('ID_Sal_t', row_number().over(window_spec))\n",
    "        dim_salario = dim_salario.withColumnsRenamed({'Año':'Fecha', 'clae6':'ID_Clae6', 'w_mean':'Salario_Mean'})\n",
    "        dim_salario = dim_salario.select(['ID_Sal_t','ID_Sal', 'ID_Clae6','Salario_Mean', 'Fecha'])\n",
    "        df_filtered_salarios = dim_salario.join(dim_act, on='ID_Clae6', how='inner')\n",
    "        df_filtered_salarios = df_filtered_salarios.select('ID_Sal_t', 'ID_Clae6', 'Salario_Mean', 'Fecha')\n",
    "        df_filtered_salarios = df_filtered_salarios.withColumnRenamed('ID_Sal_t', 'ID_Sal')\n",
    "\n",
    "        return df_filtered_salarios\n",
    "    \n",
    "    def create_dim_prov(self):\n",
    "        dim_prov = self.data_prov_df.withColumnsRenamed({'provincia_id':'Provincia_ID', 'provincia':'Provincia'})\n",
    "        \n",
    "        return dim_prov\n",
    "    \n",
    "    def create_dim_dep(self):\n",
    "        dim_dep = self.data_dep_df.withColumnsRenamed({'in_departamento':'Departamento_ID','departamento':'Departamento'})\n",
    "        \n",
    "        return dim_dep\n",
    "    \n",
    "    def create_dim_act(self):\n",
    "        dim_act = self.data_actividades_df.select(['clae6', 'clae6_desc'])\n",
    "        dim_act = dim_act.withColumnsRenamed({'clae6':'ID_Clae6', 'clae6_desc':'Desc_clae6'})\n",
    "\n",
    "        return dim_act"
   ]
  },
  {
   "cell_type": "code",
   "execution_count": 52,
   "metadata": {},
   "outputs": [],
   "source": [
    "clase_tables = CreateTablesDW(data_genero_df, data_actividades_df, data_dep_df, data_prov_df, data_sal_med_df)\n",
    "table_fact = clase_tables.create_fact_table()\n",
    "dim_act = clase_tables.create_dim_act()\n",
    "dim_salario = clase_tables.create_dim_salario(dim_act)\n",
    "dim_prov = clase_tables.create_dim_prov()\n",
    "dim_dep = clase_tables.create_dim_dep()"
   ]
  },
  {
   "cell_type": "markdown",
   "metadata": {},
   "source": [
    "**CARGA DE DATOS**"
   ]
  },
  {
   "cell_type": "code",
   "execution_count": 116,
   "metadata": {},
   "outputs": [],
   "source": [
    "class LoadDW:\n",
    "    def __init__(self, dim_prov, dim_dep, dim_act, dim_salario, table_fact):\n",
    "        self.dim_prov = dim_prov\n",
    "        self.dim_act = dim_act\n",
    "        self.dim_salario = dim_salario\n",
    "        self.dim_dep = dim_dep\n",
    "        self.table_fact = table_fact\n",
    "\n",
    "    def load_dim_data(self):\n",
    "        for datos, tabla in {self.dim_prov:'dim_provincias', self.dim_dep:'dim_departamentos', self.dim_act:'dim_actividad', self.dim_salario:'dim_salarios', self.table_fact:'fact_empleo'}.items():\n",
    "            datos.write \\\n",
    "            .format(\"jdbc\") \\\n",
    "            .option(\"url\", \"jdbc:mysql://HOST:PORT/DATABASENAME\") \\\n",
    "            .option(\"driver\", \"com.mysql.cj.jdbc.Driver\") \\\n",
    "            .option(\"dbtable\", tabla) \\\n",
    "            .option(\"user\", \"USER\") \\\n",
    "            .option(\"password\", \"PASSWORD\") \\\n",
    "            .mode(\"append\") \\\n",
    "            .save()\n",
    "\n"
   ]
  },
  {
   "cell_type": "code",
   "execution_count": 117,
   "metadata": {},
   "outputs": [],
   "source": [
    "clase_load = LoadDW(dim_prov, dim_dep, dim_act, dim_salario, table_fact)\n",
    "clase_load.load_dim_data()"
   ]
  },
  {
   "cell_type": "markdown",
   "metadata": {},
   "source": [
    "**EN MI OPINION ESTA FORMA DE EJECUTAR LOS MODULOS POR PARTES ES UNA PRACTICA SEGURA Y EDUCATIVA. LO CUAL PERMITE DETECTAR ERRORES DE MANERA ANTICIPADA ANTES DEL DESARROLLO EN PRODUCCION.**"
   ]
  }
 ],
 "metadata": {
  "kernelspec": {
   "display_name": "NicoCH",
   "language": "python",
   "name": "python3"
  },
  "language_info": {
   "codemirror_mode": {
    "name": "ipython",
    "version": 3
   },
   "file_extension": ".py",
   "mimetype": "text/x-python",
   "name": "python",
   "nbconvert_exporter": "python",
   "pygments_lexer": "ipython3",
   "version": "3.10.13"
  }
 },
 "nbformat": 4,
 "nbformat_minor": 2
}
