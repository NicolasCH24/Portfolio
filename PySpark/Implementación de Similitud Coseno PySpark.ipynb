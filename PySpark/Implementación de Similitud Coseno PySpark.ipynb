{
 "cells": [
  {
   "cell_type": "markdown",
   "metadata": {},
   "source": [
    "SISTEMA DE RECOMENCACION SPOTIFY"
   ]
  },
  {
   "cell_type": "code",
   "execution_count": 1,
   "metadata": {},
   "outputs": [],
   "source": [
    "from pyspark import SparkConf, SparkContext\n",
    "from pyspark.sql import SparkSession\n",
    "from pyspark.sql import Row\n",
    "from pyspark.sql.functions import when\n",
    "from sklearn.preprocessing import StandardScaler\n",
    "from sklearn.metrics.pairwise import linear_kernel\n",
    "import numpy as np\n",
    "from pyspark.sql.functions import col"
   ]
  },
  {
   "cell_type": "code",
   "execution_count": 2,
   "metadata": {},
   "outputs": [],
   "source": [
    "spark = SparkSession.builder \\\n",
    "    .appName(\"CrearDataFrame\") \\\n",
    "    .master(\"local\") \\\n",
    "    .getOrCreate()"
   ]
  },
  {
   "cell_type": "code",
   "execution_count": 3,
   "metadata": {},
   "outputs": [],
   "source": [
    "df = spark.read.csv(\"C:/Dropbox/CursoSpark/pandas_spotify.csv\", header=True, sep=\",\")"
   ]
  },
  {
   "cell_type": "code",
   "execution_count": 4,
   "metadata": {},
   "outputs": [
    {
     "name": "stdout",
     "output_type": "stream",
     "text": [
      "+---+----+--------------------+---+------+---+-------------------+--------------------+---+-------------------+---+--------------------+--------------------+--------------------+--------------------+-------------------+------------------+---+-----------+----+\n",
      "|_c0|   0|                   1|  2|     3|  4|                  5|                   6|  7|                  8|  9|                  10|                  11|                  12|                  13|                 14|                15| 16|         17|  18|\n",
      "+---+----+--------------------+---+------+---+-------------------+--------------------+---+-------------------+---+--------------------+--------------------+--------------------+--------------------+-------------------+------------------+---+-----------+----+\n",
      "|  0| 539|    Someone Like You| 57|276146|  0| 0.4390000104904175|  0.2070000022649765|  1| -9.572999954223633|  1| 0.02969999983906746|  0.6079999804496765|                 0.0|  0.1860000044107437| 0.2639999985694885|136.51400756835938|  4|   acoustic|97.0|\n",
      "|  1| 831|             My Babe| 59|162040|  0| 0.6759999990463257| 0.33399999141693115|  5|-10.571999549865723|  1| 0.05079999938607216|  0.8619999885559082|                 0.0|  0.3199999928474426| 0.8669999837875366|             158.0|  4|   acoustic|97.0|\n",
      "|  2|1087|              Makoti|  0|274933|  0| 0.4690000116825104|  0.8240000009536743|  8| -10.78499984741211|  1| 0.09440000355243683|  0.4779999852180481|  0.2680000066757202| 0.07599999755620956|  0.781000018119812|220.08099365234375|  4|   afrobeat| 0.0|\n",
      "|  3|1090|      Triunfo - Live| 34|273426|  0| 0.5400000214576721|  0.9449999928474426|  1| -5.020999908447266|  1|  0.2709999978542328|  0.3149999976158142|                 0.0|  0.4050000011920929| 0.5509999990463257| 92.01300048828125|  4|   afrobeat| 0.0|\n",
      "|  4|1096|         Black Organ| 34|191506|  0| 0.8370000123977661|  0.5979999899864197|  1|  -9.04699993133545|  0|  0.1809999942779541| 0.39100000262260437| 0.23800000548362732| 0.05979999899864197| 0.9829999804496765|  145.218994140625|  4|   afrobeat| 0.0|\n",
      "|  5|1109|Bienvenidos A Mi ...| 33|237026|  1| 0.6579999923706055|  0.7149999737739563| 10| -7.415999889373779|  0| 0.26899999380111694|0.017400000244379044|                 0.0|  0.3070000112056732| 0.5429999828338623|189.89500427246094|  4|   afrobeat| 0.0|\n",
      "|  6|1283|             Feitiço| 24|262425|  0| 0.8690000176429749|   0.796999990940094|  6| -4.454999923706055|  1| 0.03180000185966492|   0.414000004529953|                 0.0|  0.0851999968290329| 0.9729999899864197|121.99600219726562|  4|   afrobeat| 0.0|\n",
      "|  7|1793|  Electro Movimiento| 19|196986|  0| 0.8029999732971191|  0.8600000143051147|  8| -6.521999835968018|  1| 0.13500000536441803| 0.07819999754428864|4.450000051292591...| 0.12800000607967377| 0.5339999794960022|109.96600341796875|  4|   afrobeat| 0.0|\n",
      "|  8|1974|     Tropical Garden| 16|502693|  0| 0.6150000095367432|  0.3970000147819519|  0|-17.525999069213867|  0| 0.08590000122785568|  0.3009999990463257|  0.8859999775886536|0.027699999511241913| 0.9160000085830688|             169.0|  4|   afrobeat| 0.0|\n",
      "|  9|2260|          Can't Stop| 82|269000|  0| 0.6179999709129333|  0.9380000233650208|  9| -3.441999912261963|  1| 0.04560000076889992|0.017899999395012856|                 0.0| 0.16699999570846558|              0.875| 91.45500183105469|  4|   alt-rock| 1.0|\n",
      "| 10|2363|Looking For Someb...| 72|178617|  1| 0.5220000147819519|  0.9570000171661377|  2| -4.923999786376953|  1| 0.06870000064373016|0.051500000059604645| 0.00139999995008111| 0.14399999380111694| 0.9169999957084656|170.91000366210938|  4|   alt-rock| 1.0|\n",
      "| 11|2514|         Happy Pills| 71|203080|  0| 0.5210000276565552|  0.8849999904632568|  4| -4.934000015258789|  0|               0.125|0.003269999986514449|0.009039999917149544|  0.3240000009536743| 0.3440000116825104|115.98500061035156|  4|   alt-rock| 1.0|\n",
      "| 12|2638|             Presión| 47|238346|  0|  0.414000004529953|  0.9380000233650208| 10|-4.5920000076293945|  0| 0.06840000301599503| 0.06019999831914902|1.180000026579364...| 0.10999999940395355| 0.6430000066757202| 99.01399993896484|  4|   alt-rock| 1.0|\n",
      "| 13|2783|           Halloween|  0|221466|  0|0.22300000488758087|  0.9100000262260437|  7|-7.0970001220703125|  1| 0.07999999821186066|0.011599999852478504|0.000517999986186...| 0.21199999749660492|0.36399999260902405|            171.75|  4|   alt-rock| 1.0|\n",
      "| 14|2989|       De Paso Nomás| 44|185501|  0| 0.6460000276565552|  0.8460000157356262|  7| -4.427000045776367|  1|0.028200000524520874|0.058400001376867294|                 0.0| 0.37599998712539673| 0.9649999737739563|126.02200317382812|  4|   alt-rock| 1.0|\n",
      "| 15|3050|     Little Dark Age| 83|299960|  0| 0.7049999833106995|  0.7120000123977661|  6| -6.156000137329102|  1| 0.03849999979138374|0.010200000368058681|0.000854999991133...| 0.10000000149011612| 0.6200000047683716| 97.51200103759766|  4|alternative| 2.0|\n",
      "| 16|3307|          I Like Him| 66|132453|  1| 0.8930000066757202|  0.5789999961853027|  9| -8.994999885559082|  1| 0.11299999803304672|  0.0640999972820282|0.000120999997307...|  0.2150000035762787| 0.6110000014305115|133.01800537109375|  4|alternative| 2.0|\n",
      "| 17|3723|             Lithium| 73|257053|  0| 0.6779999732971191|   0.656000018119812|  7| -6.409999847412109|  1|0.038100000470876694|0.001739999977871...|                 0.0| 0.06310000270605087|0.48500001430511475|123.20700073242188|  4|alternative| 2.0|\n",
      "| 18|4817|     The Narrow Path| 39|226857|  0|0.16699999570846558| 0.07090000063180923|  5|-25.474000930786133|  1|  0.0340999998152256|  0.9670000076293945|  0.9580000042915344| 0.10700000077486038|0.03909999877214432|111.91699981689453|  4|    ambient| 3.0|\n",
      "| 19|4925|Walk With Us - Fo...| 57|120456|  0|0.29899999499320984|0.026399999856948853|  9| -26.53499984741211|  0| 0.04690000042319298|  0.9950000047683716|  0.8820000290870667|  0.0729999989271164|0.23499999940395355|168.96299743652344|  5|    ambient| 3.0|\n",
      "+---+----+--------------------+---+------+---+-------------------+--------------------+---+-------------------+---+--------------------+--------------------+--------------------+--------------------+-------------------+------------------+---+-----------+----+\n",
      "only showing top 20 rows\n",
      "\n"
     ]
    }
   ],
   "source": [
    "df.show()"
   ]
  },
  {
   "cell_type": "code",
   "execution_count": 5,
   "metadata": {},
   "outputs": [],
   "source": [
    "df_top10_mio = spark.createDataFrame(df.filter(df['17'] == 'alt-rock').take(10))\n",
    "df_top10_mio = df_top10_mio.drop('_c0')"
   ]
  },
  {
   "cell_type": "code",
   "execution_count": 22,
   "metadata": {},
   "outputs": [
    {
     "name": "stdout",
     "output_type": "stream",
     "text": [
      "+----+--------------------+---+------+---+-------------------+------------------+---+-------------------+---+--------------------+--------------------+--------------------+-------------------+-------------------+------------------+---+--------+---+\n",
      "|   0|                   1|  2|     3|  4|                  5|                 6|  7|                  8|  9|                  10|                  11|                  12|                 13|                 14|                15| 16|      17| 18|\n",
      "+----+--------------------+---+------+---+-------------------+------------------+---+-------------------+---+--------------------+--------------------+--------------------+-------------------+-------------------+------------------+---+--------+---+\n",
      "|2260|          Can't Stop| 82|269000|  0| 0.6179999709129333|0.9380000233650208|  9| -3.441999912261963|  1| 0.04560000076889992|0.017899999395012856|                 0.0|0.16699999570846558|              0.875| 91.45500183105469|  4|alt-rock|1.0|\n",
      "|2363|Looking For Someb...| 72|178617|  1| 0.5220000147819519|0.9570000171661377|  2| -4.923999786376953|  1| 0.06870000064373016|0.051500000059604645| 0.00139999995008111|0.14399999380111694| 0.9169999957084656|170.91000366210938|  4|alt-rock|1.0|\n",
      "|2514|         Happy Pills| 71|203080|  0| 0.5210000276565552|0.8849999904632568|  4| -4.934000015258789|  0|               0.125|0.003269999986514449|0.009039999917149544| 0.3240000009536743| 0.3440000116825104|115.98500061035156|  4|alt-rock|1.0|\n",
      "|2638|             Presión| 47|238346|  0|  0.414000004529953|0.9380000233650208| 10|-4.5920000076293945|  0| 0.06840000301599503| 0.06019999831914902|1.180000026579364...|0.10999999940395355| 0.6430000066757202| 99.01399993896484|  4|alt-rock|1.0|\n",
      "|2783|           Halloween|  0|221466|  0|0.22300000488758087|0.9100000262260437|  7|-7.0970001220703125|  1| 0.07999999821186066|0.011599999852478504|0.000517999986186...|0.21199999749660492|0.36399999260902405|            171.75|  4|alt-rock|1.0|\n",
      "|2989|       De Paso Nomás| 44|185501|  0| 0.6460000276565552|0.8460000157356262|  7| -4.427000045776367|  1|0.028200000524520874|0.058400001376867294|                 0.0|0.37599998712539673| 0.9649999737739563|126.02200317382812|  4|alt-rock|1.0|\n",
      "|2022|      Mr. Brightside|  2|223973|  0| 0.3440000116825104|0.9309999942779541|  1| -3.759000062942505|  1| 0.07829999923706055|0.001040000002831...|                 0.0|0.09030000120401382|0.25099998712539673|   148.10400390625|  4|alt-rock|1.0|\n",
      "|2046|Don't Shoot Me Santa|  0|245106|  0| 0.5879999995231628| 0.847000002861023|  8| -4.164000034332275|  1| 0.07050000131130219|0.060100000351667404|                 0.0| 0.3070000112056732| 0.6620000004768372|120.04100036621094|  4|alt-rock|1.0|\n",
      "|2076|     Feel Invincible|  0|229933|  0| 0.6029999852180481|0.8859999775886536|  5|-3.7769999504089355|  0| 0.08370000123977661|0.000449999992270...|                 0.0|0.25999999046325684|0.39500001072883606| 126.0270004272461|  4|alt-rock|1.0|\n",
      "|2158|Heads Will Roll -...|  0|383893|  0| 0.7379999756813049|0.6069999933242798|  8| -3.933000087738037|  0| 0.08449999988079071|0.007459999993443489|  0.3240000009536743|0.06989999860525131| 0.7799999713897705|131.98199462890625|  4|alt-rock|1.0|\n",
      "+----+--------------------+---+------+---+-------------------+------------------+---+-------------------+---+--------------------+--------------------+--------------------+-------------------+-------------------+------------------+---+--------+---+\n",
      "\n"
     ]
    }
   ],
   "source": [
    "df_top10_mio.show()"
   ]
  },
  {
   "cell_type": "code",
   "execution_count": 6,
   "metadata": {},
   "outputs": [],
   "source": [
    "def listaDeCanciones(df_top10_mio):\n",
    "    lista_canciones = []\n",
    "    id_canciones = df_top10_mio.select('0')\n",
    "    id_canciones = id_canciones.collect()\n",
    "    for i in id_canciones:\n",
    "        lista_canciones.append(int(i[0]))\n",
    "        \n",
    "    return lista_canciones"
   ]
  },
  {
   "cell_type": "code",
   "execution_count": 7,
   "metadata": {},
   "outputs": [],
   "source": [
    "def idGenero(df):\n",
    "    id_genero = df[['0','17']]\n",
    "    id_genero = id_genero.collect()\n",
    "    \n",
    "    return id_genero"
   ]
  },
  {
   "cell_type": "code",
   "execution_count": 25,
   "metadata": {},
   "outputs": [],
   "source": [
    "def getStimilarMusicID(lista_canciones, id_genero):\n",
    "    similar_music_id = []\n",
    "    for i, g in id_genero:\n",
    "        if i not in lista_canciones and g == 'alt-rock':\n",
    "            similar_music_id.append(i)\n",
    "    similar_music_id = list(set(similar_music_id))\n",
    "\n",
    "    return similar_music_id"
   ]
  },
  {
   "cell_type": "code",
   "execution_count": 31,
   "metadata": {},
   "outputs": [],
   "source": [
    "def createDfCantidato(df, similar_music_id):\n",
    "    df_candidato = df.filter(col('0').isin(similar_music_id))\n",
    "\n",
    "    return df_candidato"
   ]
  },
  {
   "cell_type": "code",
   "execution_count": 10,
   "metadata": {},
   "outputs": [],
   "source": [
    "def arrayxConvert(df_top10_mio):\n",
    "    df_top10_mio_clean = df_top10_mio.drop('_c0','1','17').collect()\n",
    "    arrayx = np.array(df_top10_mio_clean)\n",
    "\n",
    "    return arrayx"
   ]
  },
  {
   "cell_type": "code",
   "execution_count": 11,
   "metadata": {},
   "outputs": [],
   "source": [
    "def arrayyConvert(df_candidato):\n",
    "    df_candidato_clean = df_candidato.drop('_c0','1','17').collect()\n",
    "    arrayy = np.array(df_candidato_clean)\n",
    "\n",
    "    return arrayy"
   ]
  },
  {
   "cell_type": "code",
   "execution_count": 12,
   "metadata": {},
   "outputs": [],
   "source": [
    "def compute_cossim(arrayx, arrayy):\n",
    "    scaler = StandardScaler()\n",
    "    top_songs_scaled = scaler.fit_transform(arrayx)\n",
    "    can_scaled = scaler.fit_transform(arrayy)\n",
    "\n",
    "    top_songs_norm = np.sqrt((top_songs_scaled * top_songs_scaled).sum(axis=1))\n",
    "    can_norm = np.sqrt((can_scaled * can_scaled)).sum(axis=1)\n",
    "\n",
    "    n_top_songs = top_songs_scaled.shape[0]\n",
    "    n_candidates = can_scaled.shape[0]\n",
    "    top_songs = top_songs_scaled/top_songs_norm.reshape(n_top_songs,1)\n",
    "    candidates = can_scaled/can_norm.reshape(n_candidates,1)\n",
    "\n",
    "    cos_sim = linear_kernel(top_songs, candidates)\n",
    "\n",
    "    return cos_sim\n"
   ]
  },
  {
   "cell_type": "code",
   "execution_count": 54,
   "metadata": {},
   "outputs": [],
   "source": [
    "def content_based_filtering(pos, cos_sim, ncands, threshold= 0.8):\n",
    "    filtered_indices = np.where(cos_sim[pos, :] >= threshold)[0]\n",
    "\n",
    "    sorted_indices = filtered_indices[np.argsort(cos_sim[pos, filtered_indices])[::-1]]\n",
    "    \n",
    "    selected_candidates = sorted_indices[:ncands]\n",
    "\n",
    "    return selected_candidates\n"
   ]
  },
  {
   "cell_type": "code",
   "execution_count": 95,
   "metadata": {},
   "outputs": [],
   "source": [
    "def output_recomendaciones(cancion):\n",
    "    cands = content_based_filtering(cancion, cos_sim, ncands=5, threshold=0.1)\n",
    "    \n",
    "    return cands[1::]"
   ]
  },
  {
   "cell_type": "code",
   "execution_count": 56,
   "metadata": {},
   "outputs": [],
   "source": [
    "def obtener_id_canciones(cands, arrayy):\n",
    "    lista_ids = []\n",
    "    for i in cands:\n",
    "        lista_ids.append(arrayy[i][0])\n",
    "    \n",
    "    return lista_ids"
   ]
  },
  {
   "cell_type": "code",
   "execution_count": 57,
   "metadata": {},
   "outputs": [],
   "source": [
    "def obtrener_nombre_canciones(lista_ids,df):\n",
    "    df_id_musica = df.select('0','1')\n",
    "    nombre_canciones = []\n",
    "    canciones = df_id_musica.filter(col('0').isin(lista_ids)).collect()\n",
    "    for i in canciones:\n",
    "        nombre_canciones.append(i[1])\n",
    "    return nombre_canciones"
   ]
  },
  {
   "cell_type": "code",
   "execution_count": 58,
   "metadata": {},
   "outputs": [],
   "source": [
    "lista_canciones = listaDeCanciones(df_top10_mio)"
   ]
  },
  {
   "cell_type": "code",
   "execution_count": 60,
   "metadata": {},
   "outputs": [],
   "source": [
    "id_genero = idGenero(df)"
   ]
  },
  {
   "cell_type": "code",
   "execution_count": 62,
   "metadata": {},
   "outputs": [],
   "source": [
    "similar_music_id = getStimilarMusicID(lista_canciones, id_genero)"
   ]
  },
  {
   "cell_type": "code",
   "execution_count": 64,
   "metadata": {},
   "outputs": [],
   "source": [
    "df_candidato = createDfCantidato(df, similar_music_id)"
   ]
  },
  {
   "cell_type": "code",
   "execution_count": 66,
   "metadata": {},
   "outputs": [],
   "source": [
    "arrayx = arrayxConvert(df_top10_mio)"
   ]
  },
  {
   "cell_type": "code",
   "execution_count": 68,
   "metadata": {},
   "outputs": [],
   "source": [
    "arrayy = arrayyConvert(df_candidato)"
   ]
  },
  {
   "cell_type": "code",
   "execution_count": 70,
   "metadata": {},
   "outputs": [],
   "source": [
    "cos_sim = compute_cossim(arrayx, arrayy)"
   ]
  },
  {
   "cell_type": "code",
   "execution_count": 110,
   "metadata": {},
   "outputs": [
    {
     "data": {
      "text/plain": [
       "0.31957840356329825"
      ]
     },
     "execution_count": 110,
     "metadata": {},
     "output_type": "execute_result"
    }
   ],
   "source": [
    "cos_sim.max()"
   ]
  },
  {
   "cell_type": "code",
   "execution_count": 91,
   "metadata": {},
   "outputs": [],
   "source": [
    "selected_candidates = content_based_filtering(1, cos_sim, ncands=5, threshold=0.1)\n"
   ]
  },
  {
   "cell_type": "code",
   "execution_count": 96,
   "metadata": {},
   "outputs": [],
   "source": [
    "cands = output_recomendaciones(1)"
   ]
  },
  {
   "cell_type": "code",
   "execution_count": 98,
   "metadata": {},
   "outputs": [],
   "source": [
    "lista_ids = obtener_id_canciones(cands, arrayy)"
   ]
  },
  {
   "cell_type": "code",
   "execution_count": 100,
   "metadata": {},
   "outputs": [],
   "source": [
    "nombre_canciones = obtrener_nombre_canciones(lista_ids,df)"
   ]
  },
  {
   "cell_type": "code",
   "execution_count": 112,
   "metadata": {},
   "outputs": [
    {
     "name": "stdout",
     "output_type": "stream",
     "text": [
      "En base a su top 10 canciones escuchadas, se recomiendan 4 canciones para cada una del top 10.\n",
      "\n",
      "Cancion:  Feel Invincible\n",
      "Cancion:  Choke\n",
      "Cancion:  Living Dead Girl\n",
      "Cancion:  When You Were Young\n",
      "En base a su top 10 canciones escuchadas, se recomiendan 4 canciones para cada una del top 10.\n",
      "\n",
      "Cancion:  Heads Will Roll - A-Trak Remix\n",
      "Cancion:  Heads Will Roll - A-Trak Remix\n",
      "Cancion:  Get Innocuous! - Soulwax Remix\n",
      "Cancion:  Heads Will Roll - A-Trak Remix\n"
     ]
    },
    {
     "ename": "ValueError",
     "evalue": "invalid literal for int() with base 10: 'q'",
     "output_type": "error",
     "traceback": [
      "\u001b[1;31m---------------------------------------------------------------------------\u001b[0m",
      "\u001b[1;31mValueError\u001b[0m                                Traceback (most recent call last)",
      "Cell \u001b[1;32mIn[112], line 14\u001b[0m\n\u001b[0;32m     12\u001b[0m \u001b[38;5;28;01mfor\u001b[39;00m i \u001b[38;5;129;01min\u001b[39;00m nombre_canciones:\n\u001b[0;32m     13\u001b[0m     \u001b[38;5;28mprint\u001b[39m(\u001b[38;5;124m\"\u001b[39m\u001b[38;5;124mCancion: \u001b[39m\u001b[38;5;124m\"\u001b[39m, \u001b[38;5;28mstr\u001b[39m(i))\n\u001b[1;32m---> 14\u001b[0m cancion \u001b[38;5;241m=\u001b[39m \u001b[38;5;28;43mint\u001b[39;49m\u001b[43m(\u001b[49m\u001b[38;5;28;43minput\u001b[39;49m\u001b[43m(\u001b[49m\u001b[38;5;124;43m'\u001b[39;49m\u001b[38;5;124;43mIngrese otro tema: \u001b[39;49m\u001b[38;5;124;43m'\u001b[39;49m\u001b[43m)\u001b[49m\u001b[43m)\u001b[49m\n",
      "\u001b[1;31mValueError\u001b[0m: invalid literal for int() with base 10: 'q'"
     ]
    }
   ],
   "source": [
    "cancion = int(input(\"Cancion: \"))\n",
    "while True:\n",
    "    if cancion <= 0:\n",
    "        break\n",
    "    else:\n",
    "        selected_candidates = content_based_filtering(cancion, cos_sim, ncands=5, threshold=0.3)\n",
    "        cands = output_recomendaciones(cancion)\n",
    "        lista_ids = obtener_id_canciones(cands, arrayy)\n",
    "        nombre_canciones = obtrener_nombre_canciones(lista_ids,df)\n",
    "        print(\"En base a su top 10 canciones escuchadas, se recomiendan 4 canciones para cada una del top 10.\")\n",
    "        print(\"\")\n",
    "        for i in nombre_canciones:\n",
    "            print(\"Cancion: \", str(i))\n",
    "        cancion = int(input('Ingrese otro tema: '))"
   ]
  }
 ],
 "metadata": {
  "kernelspec": {
   "display_name": "NicoCH",
   "language": "python",
   "name": "python3"
  },
  "language_info": {
   "codemirror_mode": {
    "name": "ipython",
    "version": 3
   },
   "file_extension": ".py",
   "mimetype": "text/x-python",
   "name": "python",
   "nbconvert_exporter": "python",
   "pygments_lexer": "ipython3",
   "version": "3.10.13"
  }
 },
 "nbformat": 4,
 "nbformat_minor": 2
}
